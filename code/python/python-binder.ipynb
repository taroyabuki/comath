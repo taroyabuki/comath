{
  "cells": [
    {
      "cell_type": "markdown",
      "source": "[矢吹太朗『コンピュータでとく数学』（オーム社, 2024）](https://github.com/taroyabuki/comath)\n\n\n",
      "metadata": {}
    },
    {
      "cell_type": "markdown",
      "source": "# 1 実行環境",
      "metadata": {}
    },
    {
      "cell_type": "code",
      "execution_count": null,
      "metadata": {},
      "outputs": [],
      "source": [
        "import matplotlib.pyplot as plt\n",
        "import numpy as np\n",
        "import pandas as pd\n",
        "import seaborn as sns\n",
        "import statsmodels.api as sm\n",
        "import statsmodels.formula.api as smf\n",
        "import sympy as sym\n",
        "from collections import Counter\n",
        "from patsy import dmatrices\n",
        "from scipy import linalg, stats\n",
        "from scipy.integrate import quad\n",
        "from scipy.optimize import minimize\n",
        "from sklearn.linear_model import LinearRegression\n",
        "from statsmodels.stats.proportion import binom_test\n",
        "from statsmodels.stats.weightstats import CompareMeans, DescrStatsW, ttest_ind\n",
        "from sympy import *\n",
        "from sympy.stats import *\n",
        "from sympy.plotting import plot3d"
      ]
    },
    {
      "cell_type": "code",
      "execution_count": null,
      "metadata": {},
      "outputs": [],
      "source": [
        "np.sqrt(2)"
      ]
    },
    {
      "cell_type": "code",
      "execution_count": null,
      "metadata": {},
      "outputs": [],
      "source": [
        "data = pd.DataFrame({'x1': [1, 3, 6, 10], 'y': [7, 1, 6, 14]})\n",
        "model = smf.ols('y ~ x1', data).fit()\n",
        "model.params"
      ]
    },
    {
      "cell_type": "code",
      "execution_count": null,
      "metadata": {},
      "outputs": [],
      "source": [
        "from see import see\n",
        "see(model)\n",
        "#   .outlier_test()      .params              .predict()           .pvalues\n",
        "#   .remove_data()       .resid               .resid_pearson       .rsquared\n",
        "#   .rsquared_adj        .save()              .scale               .ssr\n",
        "#   .summary()           .summary2()          .t_test()"
      ]
    },
    {
      "cell_type": "markdown",
      "source": "# 2 数と変数",
      "metadata": {}
    },
    {
      "cell_type": "code",
      "execution_count": null,
      "metadata": {},
      "outputs": [],
      "source": [
        "2 * (-3)"
      ]
    },
    {
      "cell_type": "code",
      "execution_count": null,
      "metadata": {},
      "outputs": [],
      "source": [
        "(1 + 2) * 3"
      ]
    },
    {
      "cell_type": "code",
      "execution_count": null,
      "metadata": {},
      "outputs": [],
      "source": [
        "2**10"
      ]
    },
    {
      "cell_type": "code",
      "execution_count": null,
      "metadata": {},
      "outputs": [],
      "source": [
        "-2 < -1"
      ]
    },
    {
      "cell_type": "code",
      "execution_count": null,
      "metadata": {},
      "outputs": [],
      "source": [
        "2 + 2 == 5"
      ]
    },
    {
      "cell_type": "code",
      "execution_count": null,
      "metadata": {},
      "outputs": [],
      "source": [
        "10 if (7 < 5) else 20"
      ]
    },
    {
      "cell_type": "code",
      "execution_count": null,
      "metadata": {},
      "outputs": [],
      "source": [
        "var('x') # xが変数であることの宣言\n",
        "x < 1"
      ]
    },
    {
      "cell_type": "code",
      "execution_count": null,
      "metadata": {},
      "outputs": [],
      "source": [
        "var('x y')\n",
        "Eq(x, y)"
      ]
    },
    {
      "cell_type": "code",
      "execution_count": null,
      "metadata": {},
      "outputs": [],
      "source": [
        "simplify(Eq((x**2 - 1), (x + 1) * (x - 1)))"
      ]
    },
    {
      "cell_type": "code",
      "execution_count": null,
      "metadata": {},
      "outputs": [],
      "source": [
        "not(0<1)"
      ]
    },
    {
      "cell_type": "code",
      "execution_count": null,
      "metadata": {},
      "outputs": [],
      "source": [
        "(0<1)or(2>3)"
      ]
    },
    {
      "cell_type": "code",
      "execution_count": null,
      "metadata": {},
      "outputs": [],
      "source": [
        "(0 < 1) and (2 > 3)"
      ]
    },
    {
      "cell_type": "code",
      "execution_count": null,
      "metadata": {},
      "outputs": [],
      "source": [
        "var('x')\n",
        "Not(10 < x)"
      ]
    },
    {
      "cell_type": "code",
      "execution_count": null,
      "metadata": {},
      "outputs": [],
      "source": [
        "x = 5; x == 5"
      ]
    },
    {
      "cell_type": "code",
      "execution_count": null,
      "metadata": {},
      "outputs": [],
      "source": [
        "a = 1 + 2\n",
        "b = 9\n",
        "a * (b + 1)"
      ]
    },
    {
      "cell_type": "code",
      "execution_count": null,
      "metadata": {},
      "outputs": [],
      "source": [
        "a = 1 + 2; b = 9; a * (b + 1)"
      ]
    },
    {
      "cell_type": "code",
      "execution_count": null,
      "metadata": {},
      "outputs": [],
      "source": [
        "a = 3\n",
        "var('a') # 変数を記号にする．\n",
        "expand((a + 1)**2)"
      ]
    },
    {
      "cell_type": "code",
      "execution_count": null,
      "metadata": {},
      "outputs": [],
      "source": [
        "import keyword\n",
        "keyword.kwlist"
      ]
    },
    {
      "cell_type": "code",
      "execution_count": null,
      "metadata": {},
      "outputs": [],
      "source": [
        "x1 = 2; x2 = 3; x1 + x2"
      ]
    },
    {
      "cell_type": "code",
      "execution_count": null,
      "metadata": {},
      "outputs": [],
      "source": [
        "x = 1; y = x + 1; x = 2; y"
      ]
    },
    {
      "cell_type": "code",
      "execution_count": null,
      "metadata": {},
      "outputs": [],
      "source": [
        "var('x')\n",
        "f = 2 * x + 3\n",
        "f.subs(x, 5)"
      ]
    },
    {
      "cell_type": "code",
      "execution_count": null,
      "metadata": {},
      "outputs": [],
      "source": [
        "var('a b x y')\n",
        "g = a + b\n",
        "g.subs(((a, x), (b, y)))"
      ]
    },
    {
      "cell_type": "code",
      "execution_count": null,
      "metadata": {},
      "outputs": [],
      "source": [
        "f = lambda x: 2 * x + 3\n",
        "f(5)"
      ]
    },
    {
      "cell_type": "code",
      "execution_count": null,
      "metadata": {},
      "outputs": [],
      "source": [
        "def f(x): return 2 * x + 3\n",
        "f(5)"
      ]
    },
    {
      "cell_type": "code",
      "execution_count": null,
      "metadata": {},
      "outputs": [],
      "source": [
        "f = lambda x: 2 * x + 3; var('a')\n",
        "g = f(a)\n",
        "f(5), g.subs(a, 5)"
      ]
    },
    {
      "cell_type": "code",
      "execution_count": null,
      "metadata": {},
      "outputs": [],
      "source": [
        "f = lambda x: 1 / x\n",
        "f(1)"
      ]
    },
    {
      "cell_type": "code",
      "execution_count": null,
      "metadata": {},
      "outputs": [],
      "source": [
        "(lambda x: 2 * x + 3)(5)"
      ]
    },
    {
      "cell_type": "code",
      "execution_count": null,
      "metadata": {},
      "outputs": [],
      "source": [
        "f = lambda x, y: x + y\n",
        "f(2, 3)"
      ]
    },
    {
      "cell_type": "code",
      "execution_count": null,
      "metadata": {},
      "outputs": [],
      "source": [
        "g = lambda x: x[0] + x[1]\n",
        "x = (2, 3); g(x)"
      ]
    },
    {
      "cell_type": "code",
      "execution_count": null,
      "metadata": {},
      "outputs": [],
      "source": [
        "f(*x)"
      ]
    },
    {
      "cell_type": "code",
      "execution_count": null,
      "metadata": {},
      "outputs": [],
      "source": [
        "g((2, 3))"
      ]
    },
    {
      "cell_type": "code",
      "execution_count": null,
      "metadata": {},
      "outputs": [],
      "source": [
        "var('x')\n",
        "expand((x + 1)**2)"
      ]
    },
    {
      "cell_type": "code",
      "execution_count": null,
      "metadata": {},
      "outputs": [],
      "source": [
        "N(sqrt(2), 30)"
      ]
    },
    {
      "cell_type": "code",
      "execution_count": null,
      "metadata": {},
      "outputs": [],
      "source": [
        "import struct\n",
        "tmp = bin(int(struct.pack('>d', 0.1).hex(), 16))[2:].zfill(64) # ビット列\n",
        "s, e, f = tmp[0], tmp[1:12], tmp[12:64] # 1, 11, 52桁に分ける．\n",
        "s, e, f"
      ]
    },
    {
      "cell_type": "code",
      "execution_count": null,
      "metadata": {},
      "outputs": [],
      "source": [
        "s, e, f = int(s), sym.S(int(e, 2)), sym.S(int(f, 2)) # 数値に変換する．\n",
        "(-1)**s * (1 + f / 2**52) * 2**(e - 1023)"
      ]
    },
    {
      "cell_type": "code",
      "execution_count": null,
      "metadata": {},
      "outputs": [],
      "source": [
        "import sympy\n",
        "sympy.sqrt(5)**2 == 5 # True"
      ]
    },
    {
      "cell_type": "code",
      "execution_count": null,
      "metadata": {},
      "outputs": [],
      "source": [
        "import math\n",
        "import numpy\n",
        "numpy.sqrt(5)**2 == 5, math.sqrt(5)**2 == 5 # いずれもFalse"
      ]
    },
    {
      "cell_type": "code",
      "execution_count": null,
      "metadata": {},
      "outputs": [],
      "source": [
        "0.1 + 0.2 == 0.3"
      ]
    },
    {
      "cell_type": "code",
      "execution_count": null,
      "metadata": {},
      "outputs": [],
      "source": [
        "np.isclose(0.1 + 0.2, 0.3)"
      ]
    },
    {
      "cell_type": "code",
      "execution_count": null,
      "metadata": {},
      "outputs": [],
      "source": [
        "sym.S(1) / 10 + sym.S(2) / 10 == sym.S(3) / 10"
      ]
    },
    {
      "cell_type": "code",
      "execution_count": null,
      "metadata": {},
      "outputs": [],
      "source": [
        "var('x')\n",
        "simplify(sin(x)**2 + cos(x)**2)"
      ]
    },
    {
      "cell_type": "code",
      "execution_count": null,
      "metadata": {},
      "outputs": [],
      "source": [
        "sqrtdenest(sqrt(5 + 2 * sqrt(6)))"
      ]
    },
    {
      "cell_type": "code",
      "execution_count": null,
      "metadata": {},
      "outputs": [],
      "source": [
        "refine(sqrt((x - 1)**2), Q.nonnegative(x - 1))"
      ]
    },
    {
      "cell_type": "markdown",
      "source": "# 3 データ構造",
      "metadata": {}
    },
    {
      "cell_type": "code",
      "execution_count": null,
      "metadata": {},
      "outputs": [],
      "source": [
        "v = [2, 3, 5]; len(v)"
      ]
    },
    {
      "cell_type": "code",
      "execution_count": null,
      "metadata": {},
      "outputs": [],
      "source": [
        "v[2] = 0.5; v"
      ]
    },
    {
      "cell_type": "code",
      "execution_count": null,
      "metadata": {},
      "outputs": [],
      "source": [
        "np.arange(5)"
      ]
    },
    {
      "cell_type": "code",
      "execution_count": null,
      "metadata": {},
      "outputs": [],
      "source": [
        "np.arange(0, 1.01, 0.1) # 終点（ここでは1）より大きい値を指定する．"
      ]
    },
    {
      "cell_type": "code",
      "execution_count": null,
      "metadata": {},
      "outputs": [],
      "source": [
        "np.linspace(0, 100, 5)"
      ]
    },
    {
      "cell_type": "code",
      "execution_count": null,
      "metadata": {},
      "outputs": [],
      "source": [
        "v = np.array([2, 3])\n",
        "1.1 * v"
      ]
    },
    {
      "cell_type": "code",
      "execution_count": null,
      "metadata": {},
      "outputs": [],
      "source": [
        "u = np.array([10, 20]); v = np.array([2, 3])\n",
        "u + v"
      ]
    },
    {
      "cell_type": "code",
      "execution_count": null,
      "metadata": {},
      "outputs": [],
      "source": [
        "v + 1"
      ]
    },
    {
      "cell_type": "code",
      "execution_count": null,
      "metadata": {},
      "outputs": [],
      "source": [
        "u = np.array([10, 20]); v = np.array([2, 3])\n",
        "u.dot(v)"
      ]
    },
    {
      "cell_type": "code",
      "execution_count": null,
      "metadata": {},
      "outputs": [],
      "source": [
        "a = [2, 3, 4]; b = a.copy(); b[2] = 0.5; a"
      ]
    },
    {
      "cell_type": "code",
      "execution_count": null,
      "metadata": {},
      "outputs": [],
      "source": [
        "v = [2, -1, 3, -2]\n",
        "[x for x in v if x > 0] # 内包表記"
      ]
    },
    {
      "cell_type": "code",
      "execution_count": null,
      "metadata": {},
      "outputs": [],
      "source": [
        "v = [2, -1, 3, -2]\n",
        "np.heaviside(v, 0)"
      ]
    },
    {
      "cell_type": "code",
      "execution_count": null,
      "metadata": {},
      "outputs": [],
      "source": [
        "v = [2, -1, 3, -2]\n",
        "n = len(v)     # vのサイズ\n",
        "u = [None] * n # Noneは「値がない」ということ．\n",
        "for i in range(n): u[i] = 0 if v[i] < 0 else 1\n",
        "u"
      ]
    },
    {
      "cell_type": "code",
      "execution_count": null,
      "metadata": {},
      "outputs": [],
      "source": [
        "v = [2, -1, 3, -2]\n",
        "[(0 if x < 0 else 1) for x in v]"
      ]
    },
    {
      "cell_type": "code",
      "execution_count": null,
      "metadata": {},
      "outputs": [],
      "source": [
        "v = [2, -1, 3, -2]\n",
        "f = lambda x: 0 if x < 0 else 1\n",
        "[f(x) for x in v]"
      ]
    },
    {
      "cell_type": "code",
      "execution_count": null,
      "metadata": {},
      "outputs": [],
      "source": [
        "f = np.vectorize(lambda x: 0 if x < 0 else 1)\n",
        "f(v)"
      ]
    },
    {
      "cell_type": "code",
      "execution_count": null,
      "metadata": {},
      "outputs": [],
      "source": [
        "u = [1, 7, 2, 9]; v = [2, 3, 5, 7]\n",
        "[(-1 if a < b else 1) for a, b in zip(u, v)]"
      ]
    },
    {
      "cell_type": "code",
      "execution_count": null,
      "metadata": {},
      "outputs": [],
      "source": [
        "x = {\"apple\" : \"りんご\", \"orange\" : \"みかん\"}\n",
        "x[\"orange\"]"
      ]
    },
    {
      "cell_type": "code",
      "execution_count": null,
      "metadata": {},
      "outputs": [],
      "source": [
        "x[\"grape\"] = \"ぶどう\"\n",
        "x[\"grape\"]"
      ]
    },
    {
      "cell_type": "code",
      "execution_count": null,
      "metadata": {},
      "outputs": [],
      "source": [
        "x.pop(\"apple\")\n",
        "\"apple\" in x"
      ]
    },
    {
      "cell_type": "code",
      "execution_count": null,
      "metadata": {},
      "outputs": [],
      "source": [
        "df = pd.DataFrame({'name': ['A', 'B', 'C'],\n",
        "                   'english': [60, 90, 70],\n",
        "                   'math': [70, 80, 90],\n",
        "                   'gender': ['f', 'm', 'm']})\n",
        "df"
      ]
    },
    {
      "cell_type": "code",
      "execution_count": null,
      "metadata": {},
      "outputs": [],
      "source": [
        "df = pd.DataFrame(({'name': 'A', 'english': 60, 'math': 70, 'gender': 'f'},\n",
        "                   {'name': 'B', 'english': 90, 'math': 80, 'gender': 'm'},\n",
        "                   {'name': 'C', 'english': 70, 'math': 90, 'gender': 'm'}))\n",
        "df"
      ]
    },
    {
      "cell_type": "code",
      "execution_count": null,
      "metadata": {},
      "outputs": [],
      "source": [
        "df[['english', 'math']]"
      ]
    },
    {
      "cell_type": "code",
      "execution_count": null,
      "metadata": {},
      "outputs": [],
      "source": [
        "df[\"english\"]"
      ]
    },
    {
      "cell_type": "code",
      "execution_count": null,
      "metadata": {},
      "outputs": [],
      "source": [
        "df.english"
      ]
    },
    {
      "cell_type": "code",
      "execution_count": null,
      "metadata": {},
      "outputs": [],
      "source": [
        "m = df.iloc[:, [1, 2]].values; m"
      ]
    },
    {
      "cell_type": "code",
      "execution_count": null,
      "metadata": {},
      "outputs": [],
      "source": [
        "english, math = m.T; english, math"
      ]
    },
    {
      "cell_type": "markdown",
      "source": "# 4 可視化と方程式",
      "metadata": {}
    },
    {
      "cell_type": "code",
      "execution_count": null,
      "metadata": {},
      "outputs": [],
      "source": [
        "var('x')\n",
        "plot(x**2 + 2 * x - 4, (x, -5, 3));"
      ]
    },
    {
      "cell_type": "code",
      "execution_count": null,
      "metadata": {},
      "outputs": [],
      "source": [
        "x = np.linspace(-5, 3, 101)\n",
        "y = x**2 + 2 * x - 4\n",
        "plt.plot(x, y);"
      ]
    },
    {
      "cell_type": "code",
      "execution_count": null,
      "metadata": {},
      "outputs": [],
      "source": [
        "var('x y')\n",
        "plot3d(x**2 + y**2, (x, -1, 1), (y, -1, 1));"
      ]
    },
    {
      "cell_type": "code",
      "execution_count": null,
      "metadata": {},
      "outputs": [],
      "source": [
        "plotting.plot_contour(x**2 + y**2, (x, -1, 1), (y, -1, 1));"
      ]
    },
    {
      "cell_type": "code",
      "execution_count": null,
      "metadata": {},
      "outputs": [],
      "source": [
        "plot_implicit(Eq(x**2 + y**2, 1));"
      ]
    },
    {
      "cell_type": "code",
      "execution_count": null,
      "metadata": {},
      "outputs": [],
      "source": [
        "plot_implicit(x**2 + y**2 <= 1);"
      ]
    },
    {
      "cell_type": "code",
      "execution_count": null,
      "metadata": {},
      "outputs": [],
      "source": [
        "plot_implicit(Or(Eq(2 * x + 3 * y, 8), Eq(5 * x - 7 * y, -9)));"
      ]
    },
    {
      "cell_type": "code",
      "execution_count": null,
      "metadata": {},
      "outputs": [],
      "source": [
        "plot_implicit(And(y <= x, y >= x**2), (x, 0, 2), (y, 0, 2));"
      ]
    },
    {
      "cell_type": "code",
      "execution_count": null,
      "metadata": {},
      "outputs": [],
      "source": [
        "var('x')\n",
        "a, b = sorted(solve(Eq(x, x**2), x))\n",
        "integrate(x - x**2, (x, a, b))"
      ]
    },
    {
      "cell_type": "code",
      "execution_count": null,
      "metadata": {},
      "outputs": [],
      "source": [
        "var('x')\n",
        "solve(Eq(x**2 + 2 * x - 4, 0), x)"
      ]
    },
    {
      "cell_type": "code",
      "execution_count": null,
      "metadata": {},
      "outputs": [],
      "source": [
        "a, b = solve(x**2 + 2 * x - 4, x)\n",
        "a + b"
      ]
    },
    {
      "cell_type": "code",
      "execution_count": null,
      "metadata": {},
      "outputs": [],
      "source": [
        "n = 3; simplify(sum(solve(x**n + 2 * x - 4, x)))"
      ]
    },
    {
      "cell_type": "code",
      "execution_count": null,
      "metadata": {},
      "outputs": [],
      "source": [
        "var('x y')\n",
        "sol = solve([Eq(2 * x + 3 * y, 8), Eq(5 * x - 7 * y, -9)], [x, y]); sol"
      ]
    },
    {
      "cell_type": "code",
      "execution_count": null,
      "metadata": {},
      "outputs": [],
      "source": [
        "x1, y1 = sol.values()\n",
        "x1 + y1"
      ]
    },
    {
      "cell_type": "code",
      "execution_count": null,
      "metadata": {},
      "outputs": [],
      "source": [
        "var('x'); f = 2**x + sin(x)\n",
        "nsolve(f, x, 0)"
      ]
    },
    {
      "cell_type": "code",
      "execution_count": null,
      "metadata": {},
      "outputs": [],
      "source": [
        "var('x')\n",
        "solve(Lt(x**2 + 2 * x - 4, 0), x)"
      ]
    },
    {
      "cell_type": "markdown",
      "source": "# 5 論理式\n\n\n",
      "metadata": {}
    },
    {
      "cell_type": "markdown",
      "source": "# 6 1次元のデータ",
      "metadata": {}
    },
    {
      "cell_type": "code",
      "execution_count": null,
      "metadata": {},
      "outputs": [],
      "source": [
        "a = pd.Series([36, 43, 53, 55, 56, 56, 57, 60, 61, 73])\n",
        "b = pd.Series([34, 39, 39, 49, 50, 52, 52, 55, 83, 97])\n",
        "a.hist();"
      ]
    },
    {
      "cell_type": "code",
      "execution_count": null,
      "metadata": {},
      "outputs": [],
      "source": [
        "a.value_counts(bins=np.arange(20, 81, 20), sort=False)"
      ]
    },
    {
      "cell_type": "code",
      "execution_count": null,
      "metadata": {},
      "outputs": [],
      "source": [
        "x = [7, 3, 1, 3, 4, 7, 7, 7, 10, 3]\n",
        "f = Counter(x); f"
      ]
    },
    {
      "cell_type": "code",
      "execution_count": null,
      "metadata": {},
      "outputs": [],
      "source": [
        "pd.DataFrame({'A':a, 'B':b}).boxplot();"
      ]
    },
    {
      "cell_type": "code",
      "execution_count": null,
      "metadata": {},
      "outputs": [],
      "source": [
        "a = pd.Series([36, 43, 53, 55, 56, 56, 57, 60, 61, 73])\n",
        "a.mean()"
      ]
    },
    {
      "cell_type": "code",
      "execution_count": null,
      "metadata": {},
      "outputs": [],
      "source": [
        "b = pd.Series([34, 39, 39, 49, 50, 52, 52, 55, 83, 97])\n",
        "sum(b) / len(b), b.sum() / b.count() # 二つの方法"
      ]
    },
    {
      "cell_type": "code",
      "execution_count": null,
      "metadata": {},
      "outputs": [],
      "source": [
        "(a - a.mean()).mean()"
      ]
    },
    {
      "cell_type": "code",
      "execution_count": null,
      "metadata": {},
      "outputs": [],
      "source": [
        "a.var(ddof=1)"
      ]
    },
    {
      "cell_type": "code",
      "execution_count": null,
      "metadata": {},
      "outputs": [],
      "source": [
        "sum((b - b.mean())**2) / (len(b) - 1)"
      ]
    },
    {
      "cell_type": "code",
      "execution_count": null,
      "metadata": {},
      "outputs": [],
      "source": [
        "z = stats.zscore(a, ddof=1); z"
      ]
    },
    {
      "cell_type": "code",
      "execution_count": null,
      "metadata": {},
      "outputs": [],
      "source": [
        "z.mean(), z.std(ddof=1)"
      ]
    },
    {
      "cell_type": "code",
      "execution_count": null,
      "metadata": {},
      "outputs": [],
      "source": [
        "(a - a.mean()) / a.std(ddof=1)"
      ]
    },
    {
      "cell_type": "code",
      "execution_count": null,
      "metadata": {},
      "outputs": [],
      "source": [
        "a.std(ddof=1) * z + a.mean()"
      ]
    },
    {
      "cell_type": "code",
      "execution_count": null,
      "metadata": {},
      "outputs": [],
      "source": [
        "10 * z + 50"
      ]
    },
    {
      "cell_type": "markdown",
      "source": "# 7 2次元のデータ",
      "metadata": {}
    },
    {
      "cell_type": "code",
      "execution_count": null,
      "metadata": {},
      "outputs": [],
      "source": [
        "x = pd.Series([35, 45, 55, 65, 75])\n",
        "y = pd.Series([114, 124, 143, 158, 166])\n",
        "plt.scatter(x, y);"
      ]
    },
    {
      "cell_type": "code",
      "execution_count": null,
      "metadata": {},
      "outputs": [],
      "source": [
        "x = pd.Series([35, 45, 55, 65, 75])\n",
        "y = pd.Series([114, 124, 143, 158, 166])\n",
        "x.cov(y, ddof=1), np.cov(x, y, ddof=1)[0, 1] # 二つの方法"
      ]
    },
    {
      "cell_type": "code",
      "execution_count": null,
      "metadata": {},
      "outputs": [],
      "source": [
        "np.cov(x, y, ddof=1)"
      ]
    },
    {
      "cell_type": "code",
      "execution_count": null,
      "metadata": {},
      "outputs": [],
      "source": [
        "(x - x.mean()) @ (y - y.mean()) / (len(x) - 1)"
      ]
    },
    {
      "cell_type": "code",
      "execution_count": null,
      "metadata": {},
      "outputs": [],
      "source": [
        "x.corr(y), np.corrcoef(x, y)[0, 1] # 二つの方法"
      ]
    },
    {
      "cell_type": "code",
      "execution_count": null,
      "metadata": {},
      "outputs": [],
      "source": [
        "x = pd.Series([35, 45, 55, 65, 75])\n",
        "y = pd.Series([114, 124, 143, 158, 166])\n",
        "data = pd.DataFrame({'x': x, 'y': y})\n",
        "model = smf.ols('y ~ x', data).fit()\n",
        "model.params"
      ]
    },
    {
      "cell_type": "code",
      "execution_count": null,
      "metadata": {},
      "outputs": [],
      "source": [
        "model.predict({'x': 40})"
      ]
    },
    {
      "cell_type": "code",
      "execution_count": null,
      "metadata": {},
      "outputs": [],
      "source": [
        "sns.regplot(x=x, y=y, ci=None)"
      ]
    },
    {
      "cell_type": "code",
      "execution_count": null,
      "metadata": {},
      "outputs": [],
      "source": [
        "var('a b'); L = sum((y - (x * a + b))**2); L"
      ]
    },
    {
      "cell_type": "code",
      "execution_count": null,
      "metadata": {},
      "outputs": [],
      "source": [
        "vars = var('p q r s t u')\n",
        "sol = solve(Eq(L, p * (a - q)**2 + r * (b - (s* a + t))**2 + u), vars)\n",
        "print(sol)\n",
        "q.subs(sol), (s * q + t).subs(sol)"
      ]
    },
    {
      "cell_type": "code",
      "execution_count": null,
      "metadata": {},
      "outputs": [],
      "source": [
        "a = x.cov(y, ddof=1) / x.var(ddof=1)\n",
        "b = y.mean() - a * x.mean()\n",
        "a, b"
      ]
    },
    {
      "cell_type": "code",
      "execution_count": null,
      "metadata": {},
      "outputs": [],
      "source": [
        "anscombe = sns.load_dataset('anscombe')\n",
        "data = anscombe[anscombe.dataset == 'I']\n",
        "print(data.x.corr(data.y))\n",
        "model = smf.ols('y ~ x', data).fit(); print(model.params)\n",
        "sns.regplot(x=data.x, y=data.y, ci=None);"
      ]
    },
    {
      "cell_type": "markdown",
      "source": "# 8 確率変数と確率分布",
      "metadata": {}
    },
    {
      "cell_type": "code",
      "execution_count": null,
      "metadata": {},
      "outputs": [],
      "source": [
        "X = DiscreteUniform('X', range(1, 7)) # X = Die('X', 6)でもよい．\n",
        "density(X)(2)"
      ]
    },
    {
      "cell_type": "code",
      "execution_count": null,
      "metadata": {},
      "outputs": [],
      "source": [
        "rv = stats.randint(1, 7)\n",
        "rv.pmf(2)"
      ]
    },
    {
      "cell_type": "code",
      "execution_count": null,
      "metadata": {},
      "outputs": [],
      "source": [
        "P(Eq(X, 2)) # P(X == 2)ではない．"
      ]
    },
    {
      "cell_type": "code",
      "execution_count": null,
      "metadata": {},
      "outputs": [],
      "source": [
        "data = list(sample_iter(X, numsamples=1000))\n",
        "plt.hist(data); # 結果は割愛"
      ]
    },
    {
      "cell_type": "code",
      "execution_count": null,
      "metadata": {},
      "outputs": [],
      "source": [
        "data = rv.rvs(size=1000)\n",
        "plt.hist(data); # 結果は割愛"
      ]
    },
    {
      "cell_type": "code",
      "execution_count": null,
      "metadata": {},
      "outputs": [],
      "source": [
        "x = range(1, 7); y = [density(X)(x) for x in x]\n",
        "_, ax = plt.subplots() # 結果のうち，使わない部分を_とする．\n",
        "ax.hist(data, bins=np.arange(0.5, 7, 1), density=True, alpha=0.3)\n",
        "ax.scatter(x, y);"
      ]
    },
    {
      "cell_type": "code",
      "execution_count": null,
      "metadata": {},
      "outputs": [],
      "source": [
        "x = range(1, 7); y = rv.pmf(x)\n",
        "_, ax = plt.subplots() # 結果のうち，使わない部分を_とする．\n",
        "ax.hist(data, bins=np.arange(0.5, 7, 1), density=True, alpha=0.3)\n",
        "ax.scatter(x, y);"
      ]
    },
    {
      "cell_type": "code",
      "execution_count": null,
      "metadata": {},
      "outputs": [],
      "source": [
        "X = Bernoulli('X', p=sym.S(3) / 10)\n",
        "data = list(sample_iter(X, numsamples=1000))\n",
        "np.bincount(data), Counter(data) # 二つの方法"
      ]
    },
    {
      "cell_type": "code",
      "execution_count": null,
      "metadata": {},
      "outputs": [],
      "source": [
        "rv = stats.bernoulli(3 / 10)\n",
        "data = rv.rvs(1000)\n",
        "np.bincount(data), Counter(data) # 二つの方法"
      ]
    },
    {
      "cell_type": "code",
      "execution_count": null,
      "metadata": {},
      "outputs": [],
      "source": [
        "X = Binomial('X', 10, sym.S(3) / 10)\n",
        "density(X)(3)"
      ]
    },
    {
      "cell_type": "code",
      "execution_count": null,
      "metadata": {},
      "outputs": [],
      "source": [
        "rv = stats.binom(10, 3 / 10)\n",
        "rv.pmf(3)"
      ]
    },
    {
      "cell_type": "code",
      "execution_count": null,
      "metadata": {},
      "outputs": [],
      "source": [
        "P(Eq(X, 3)) # P(X == 3)ではない．"
      ]
    },
    {
      "cell_type": "code",
      "execution_count": null,
      "metadata": {},
      "outputs": [],
      "source": [
        "var('n p x')\n",
        "X = Binomial('X', n, p)\n",
        "density(X)(x)"
      ]
    },
    {
      "cell_type": "code",
      "execution_count": null,
      "metadata": {},
      "outputs": [],
      "source": [
        "n = 10; p = sym.S(3) / 10; X = Binomial('X', n, p)\n",
        "data = list(sample_iter(X, numsamples=1000))\n",
        "plt.hist(data); # 結果は割愛"
      ]
    },
    {
      "cell_type": "code",
      "execution_count": null,
      "metadata": {},
      "outputs": [],
      "source": [
        "n = 10; p = 3 / 10; rv = stats.binom(n, p)\n",
        "data = rv.rvs(1000)\n",
        "plt.hist(data); # 結果は割愛"
      ]
    },
    {
      "cell_type": "code",
      "execution_count": null,
      "metadata": {},
      "outputs": [],
      "source": [
        "x = range(0, n + 1); y = [density(X)(x) for x in x]\n",
        "_, ax = plt.subplots()\n",
        "ax.hist(data, bins=np.arange(-0.5, n + 1, 1), density=True, alpha=0.5)\n",
        "ax.scatter(x, y);"
      ]
    },
    {
      "cell_type": "code",
      "execution_count": null,
      "metadata": {},
      "outputs": [],
      "source": [
        "x = range(0, n + 1); y = rv.pmf(x)\n",
        "_, ax = plt.subplots()\n",
        "ax.hist(data, bins=np.arange(-0.5, n + 1, 1), density=True, alpha=0.5)\n",
        "ax.scatter(x, y);"
      ]
    },
    {
      "cell_type": "code",
      "execution_count": null,
      "metadata": {},
      "outputs": [],
      "source": [
        "X = Binomial('X', 10, S(3) / 10)\n",
        "cdf(X)[3] # cdf(X)(x)ではない．"
      ]
    },
    {
      "cell_type": "code",
      "execution_count": null,
      "metadata": {},
      "outputs": [],
      "source": [
        "rv = stats.binom(10, 3 / 10)\n",
        "rv.cdf(3)"
      ]
    },
    {
      "cell_type": "code",
      "execution_count": null,
      "metadata": {},
      "outputs": [],
      "source": [
        "P(X <= 3)"
      ]
    },
    {
      "cell_type": "code",
      "execution_count": null,
      "metadata": {},
      "outputs": [],
      "source": [
        "sum([density(X)(k) for k in range(4)])"
      ]
    },
    {
      "cell_type": "code",
      "execution_count": null,
      "metadata": {},
      "outputs": [],
      "source": [
        "sum([rv.pmf(k) for k in range(4)])"
      ]
    },
    {
      "cell_type": "code",
      "execution_count": null,
      "metadata": {},
      "outputs": [],
      "source": [
        "X = Uniform('X', 0, 360)\n",
        "cdf(X)(200), cdf(X)(150), cdf(X)(200) - cdf(X)(150)"
      ]
    },
    {
      "cell_type": "code",
      "execution_count": null,
      "metadata": {},
      "outputs": [],
      "source": [
        "rv = stats.uniform(0, 360)\n",
        "rv.cdf(200), rv.cdf(150), rv.cdf(200) - rv.cdf(150)"
      ]
    },
    {
      "cell_type": "code",
      "execution_count": null,
      "metadata": {},
      "outputs": [],
      "source": [
        "# P(150 <= X <= 200)やP(150 <= X and X <= 200)ではない．\n",
        "P(And(150 <= X, X <= 200))"
      ]
    },
    {
      "cell_type": "code",
      "execution_count": null,
      "metadata": {},
      "outputs": [],
      "source": [
        "var('x'); integrate(density(X)(x), (x, 150, 200))"
      ]
    },
    {
      "cell_type": "code",
      "execution_count": null,
      "metadata": {},
      "outputs": [],
      "source": [
        "quad(rv.pdf, 150, 200)"
      ]
    },
    {
      "cell_type": "code",
      "execution_count": null,
      "metadata": {},
      "outputs": [],
      "source": [
        "var('t x'); integrate(density(X)(t), (t, 0, x))"
      ]
    },
    {
      "cell_type": "code",
      "execution_count": null,
      "metadata": {},
      "outputs": [],
      "source": [
        "diff(x / 360, x)"
      ]
    },
    {
      "cell_type": "code",
      "execution_count": null,
      "metadata": {},
      "outputs": [],
      "source": [
        "data = list(sample_iter(X, numsamples=1000))\n",
        "plt.hist(data); # 結果は割愛"
      ]
    },
    {
      "cell_type": "code",
      "execution_count": null,
      "metadata": {},
      "outputs": [],
      "source": [
        "data = rv.rvs(1000)\n",
        "plt.hist(data); # 結果は割愛"
      ]
    },
    {
      "cell_type": "code",
      "execution_count": null,
      "metadata": {},
      "outputs": [],
      "source": [
        "x = np.linspace(0, 360, 100); y = [density(X)(x) for x in x]\n",
        "_, ax = plt.subplots()\n",
        "ax.hist(data, bins='sturges', density=True, alpha=0.5)\n",
        "ax.plot(x, y);"
      ]
    },
    {
      "cell_type": "code",
      "execution_count": null,
      "metadata": {},
      "outputs": [],
      "source": [
        "data = rv.rvs(1000)\n",
        "x = np.linspace(0, 360, 100); y = rv.pdf(x)\n",
        "_, ax = plt.subplots()\n",
        "ax.hist(data, bins='sturges', density=True, alpha=0.5)\n",
        "ax.plot(x, y);"
      ]
    },
    {
      "cell_type": "code",
      "execution_count": null,
      "metadata": {},
      "outputs": [],
      "source": [
        "X = Normal('X', 6, 2)\n",
        "N((cdf(X)(6 + 3 * 2) - cdf(X)(6 - 3 * 2)))"
      ]
    },
    {
      "cell_type": "code",
      "execution_count": null,
      "metadata": {},
      "outputs": [],
      "source": [
        "rv = stats.norm(6, 2)\n",
        "rv.cdf(6 + 3 * 2) - rv.cdf(6 - 3 * 2)"
      ]
    },
    {
      "cell_type": "code",
      "execution_count": null,
      "metadata": {},
      "outputs": [],
      "source": [
        "#P(6 - 3 * 2 <= X <= 6 + 3 * 2)ではない．\n",
        "#P(6 - 3 * 2 <= X and X <= 6 + 3 * 2)ではない．\n",
        "N(P(And(6 - 3 * 2 <= X, X <= 6 + 3 * 2)))"
      ]
    },
    {
      "cell_type": "code",
      "execution_count": null,
      "metadata": {},
      "outputs": [],
      "source": [
        "var('x')\n",
        "N(integrate(density(X)(x), (x, 6 - 3 * 2, 6 + 3 * 2)))"
      ]
    },
    {
      "cell_type": "code",
      "execution_count": null,
      "metadata": {},
      "outputs": [],
      "source": [
        "quad(rv.pdf, 6 - 3 * 2, 6 + 3 * 2)"
      ]
    },
    {
      "cell_type": "code",
      "execution_count": null,
      "metadata": {},
      "outputs": [],
      "source": [
        "var('mu sigma x'); X = Normal('X', mu, sigma)\n",
        "a, b = mu - 3 * sigma, mu + 3 * sigma\n",
        "(N((cdf(X)(b) - cdf(X)(a))),             # 方法1\n",
        " N(integrate(density(X)(x), (x, a, b)))) # 方法3"
      ]
    },
    {
      "cell_type": "code",
      "execution_count": null,
      "metadata": {},
      "outputs": [],
      "source": [
        "var('mu sigma x')\n",
        "X = Normal('X', mu, sigma)\n",
        "density(X)(x)"
      ]
    },
    {
      "cell_type": "code",
      "execution_count": null,
      "metadata": {},
      "outputs": [],
      "source": [
        "X1 = Normal('X1', 0, 1); X2 = Normal('X2', 2, 1); var('x')\n",
        "plot(density(X1)(x), density(X2)(x), (x, -6, 6));"
      ]
    },
    {
      "cell_type": "code",
      "execution_count": null,
      "metadata": {},
      "outputs": [],
      "source": [
        "rv1 = stats.norm(0, 1); rv2 = stats.norm(2, 1); x = np.linspace(-6, 6, 100)\n",
        "pd.DataFrame({'x': x, 'X1': rv1.pdf(x), 'X2': rv2.pdf(x)}).plot(x='x');"
      ]
    },
    {
      "cell_type": "code",
      "execution_count": null,
      "metadata": {},
      "outputs": [],
      "source": [
        "X3 = Normal('X3', 0, 2); var('x')\n",
        "plot(density(X1)(x), density(X3)(x), (x, -6, 6));"
      ]
    },
    {
      "cell_type": "code",
      "execution_count": null,
      "metadata": {},
      "outputs": [],
      "source": [
        "rv3 = stats.norm(0, 2); x = np.linspace(-6, 6, 100)\n",
        "pd.DataFrame({'x': x, 'X1': rv1.pdf(x), 'X3': rv3.pdf(x)}).plot(x='x');"
      ]
    },
    {
      "cell_type": "code",
      "execution_count": null,
      "metadata": {},
      "outputs": [],
      "source": [
        "Xs = [0, 100, 1000, 10000]; tmp = [0.9, 0.08, 0.015, 0.005]\n",
        "Ps = np.array(tmp) / sum(tmp) # 念のため合計を1にする．\n",
        "X = FiniteRV('X', dict(zip(Xs, Ps))) # 確率分布の定義\n",
        "data = sample_iter(X, numsamples=1000)\n",
        "Counter(data)"
      ]
    },
    {
      "cell_type": "code",
      "execution_count": null,
      "metadata": {},
      "outputs": [],
      "source": [
        "Xs = [0, 100, 1000, 10000]; tmp = [0.9, 0.08, 0.015, 0.005]\n",
        "Ps = np.array(tmp) / sum(tmp) # 念のため合計を1にする．\n",
        "rv = stats.rv_discrete(values=(Xs, Ps)) # 確率分布の定義\n",
        "data = rv.rvs(size=1000)\n",
        "Counter(data)"
      ]
    },
    {
      "cell_type": "code",
      "execution_count": null,
      "metadata": {},
      "outputs": [],
      "source": [
        "var('x')\n",
        "f = Lambda(x, Abs(x)); a, b = -1, 1;\n",
        "s = integrate(f(x), (x, a, b)) # “全確率”\n",
        "X = ContinuousRV(x,            # 確率分布の定義\n",
        "                 f(x) / s,     # 念のため“全確率”で割る．\n",
        "                 set=Interval(a, b))\n",
        "data = list(sample_iter(X, numsamples=1000))\n",
        "plt.hist(data);"
      ]
    },
    {
      "cell_type": "code",
      "execution_count": null,
      "metadata": {},
      "outputs": [],
      "source": [
        "f = lambda x: abs(x); a, b = -1, 1;\n",
        "s = quad(f, a, b)[0]                   # “全確率”\n",
        "class MyX(stats.rv_continuous):        # 確率分布の定義の準備\n",
        "    def _pdf(self, x): return f(x) / s # 念のため“全確率”で割る．\n",
        "rv = MyX(a=a, b=b)                     # 確率分布の定義\n",
        "data = rv.rvs(size=1000)\n",
        "plt.hist(data);"
      ]
    },
    {
      "cell_type": "code",
      "execution_count": null,
      "metadata": {},
      "outputs": [],
      "source": [
        "X = DiscreteUniform('X', range(1, 7))\n",
        "Y = X**3 % 4\n",
        "data = list(sample_iter(Y, numsamples=1000))\n",
        "plt.hist(data);"
      ]
    },
    {
      "cell_type": "code",
      "execution_count": null,
      "metadata": {},
      "outputs": [],
      "source": [
        "X = Uniform('X', 0, 1)\n",
        "Y = X**2\n",
        "data = list(sample_iter(Y, numsamples=1000))\n",
        "plt.hist(data);"
      ]
    },
    {
      "cell_type": "code",
      "execution_count": null,
      "metadata": {},
      "outputs": [],
      "source": [
        "simplify(density(Y))"
      ]
    },
    {
      "cell_type": "code",
      "execution_count": null,
      "metadata": {},
      "outputs": [],
      "source": [
        "var('a b mu sigma'); X = Normal('X', mu, sigma); Y = a * X + b\n",
        "simplify(density(Y))"
      ]
    },
    {
      "cell_type": "code",
      "execution_count": null,
      "metadata": {},
      "outputs": [],
      "source": [
        "Xs = [0, 100, 1000, 10000]; Ps = [0.9, 0.08, 0.015, 0.005]\n",
        "X = FiniteRV('X', dict(zip(Xs, Ps)))\n",
        "E(X)"
      ]
    },
    {
      "cell_type": "code",
      "execution_count": null,
      "metadata": {},
      "outputs": [],
      "source": [
        "Xs = [0, 100, 1000, 10000]; Ps = [0.9, 0.08, 0.015, 0.005]\n",
        "rv = stats.rv_discrete(values=(Xs, Ps))\n",
        "rv.mean()"
      ]
    },
    {
      "cell_type": "code",
      "execution_count": null,
      "metadata": {},
      "outputs": [],
      "source": [
        "sum(x * density(X)[x] for x in Xs)"
      ]
    },
    {
      "cell_type": "code",
      "execution_count": null,
      "metadata": {},
      "outputs": [],
      "source": [
        "sum(x * rv.pmf(x) for x in Xs)"
      ]
    },
    {
      "cell_type": "code",
      "execution_count": null,
      "metadata": {},
      "outputs": [],
      "source": [
        "np.dot(Xs, Ps)"
      ]
    },
    {
      "cell_type": "code",
      "execution_count": null,
      "metadata": {},
      "outputs": [],
      "source": [
        "np.mean(list(sample_iter(X, numsamples=500000)))"
      ]
    },
    {
      "cell_type": "code",
      "execution_count": null,
      "metadata": {},
      "outputs": [],
      "source": [
        "rv.rvs(size=500000).mean()"
      ]
    },
    {
      "cell_type": "code",
      "execution_count": null,
      "metadata": {},
      "outputs": [],
      "source": [
        "var('x')\n",
        "X = ContinuousRV(x, Abs(x), set=Interval(-1, 1))\n",
        "integrate(x * density(X)(x), (x, -1, 1))"
      ]
    },
    {
      "cell_type": "code",
      "execution_count": null,
      "metadata": {},
      "outputs": [],
      "source": [
        "class MyX(stats.rv_continuous):\n",
        "    def _pdf(self, x): return abs(x)\n",
        "rv = MyX(a=-1, b=1)\n",
        "quad(lambda x: x * rv.pdf(x), -1, 1)"
      ]
    },
    {
      "cell_type": "code",
      "execution_count": null,
      "metadata": {},
      "outputs": [],
      "source": [
        "Xs = [0, 100, 1000, 10000]; Ps = [0.9, 0.08, 0.015, 0.005]\n",
        "X = FiniteRV('X', dict(zip(Xs, Ps)))\n",
        "variance(X)"
      ]
    },
    {
      "cell_type": "code",
      "execution_count": null,
      "metadata": {},
      "outputs": [],
      "source": [
        "Xs = [0, 100, 1000, 10000]; Ps = [0.9, 0.08, 0.015, 0.005]\n",
        "rv = stats.rv_discrete(values=(Xs, Ps))\n",
        "rv.var()"
      ]
    },
    {
      "cell_type": "code",
      "execution_count": null,
      "metadata": {},
      "outputs": [],
      "source": [
        "E((X - E(X))**2)"
      ]
    },
    {
      "cell_type": "code",
      "execution_count": null,
      "metadata": {},
      "outputs": [],
      "source": [
        "sum((x - E(X))**2 * density(X)[x] for x in Xs)"
      ]
    },
    {
      "cell_type": "code",
      "execution_count": null,
      "metadata": {},
      "outputs": [],
      "source": [
        "sum((x - rv.mean())**2 * rv.pmf(x) for x in Xs)"
      ]
    },
    {
      "cell_type": "code",
      "execution_count": null,
      "metadata": {},
      "outputs": [],
      "source": [
        "np.dot((Xs - np.dot(Xs, Ps))**2, Ps)"
      ]
    },
    {
      "cell_type": "code",
      "execution_count": null,
      "metadata": {},
      "outputs": [],
      "source": [
        "var('x')\n",
        "X = ContinuousRV(x, Abs(x), set=Interval(-1, 1))\n",
        "integrate((x - E(X))**2 * density(X)(x), (x, -1, 1))"
      ]
    },
    {
      "cell_type": "code",
      "execution_count": null,
      "metadata": {},
      "outputs": [],
      "source": [
        "class MyX(stats.rv_continuous):\n",
        "    def _pdf(self, x): return abs(x)\n",
        "rv = MyX(a=-1, b=1)\n",
        "quad(lambda x: (x - rv.mean())**2 * rv.pdf(x), -1, 1)"
      ]
    },
    {
      "cell_type": "markdown",
      "source": "# 9 多次元の確率分布",
      "metadata": {}
    },
    {
      "cell_type": "code",
      "execution_count": null,
      "metadata": {},
      "outputs": [],
      "source": [
        "X1 = DiscreteUniform('X1', range(1, 7))\n",
        "X2 = DiscreteUniform('X2', range(1, 7))\n",
        "X, Y = Max(X1, X2), Min(X1, X2)\n",
        "{(x, y): P(And(Eq(X, x), Eq(Y, y))) for x in range(1, 7) for y in range(1, 7)}"
      ]
    },
    {
      "cell_type": "code",
      "execution_count": null,
      "metadata": {},
      "outputs": [],
      "source": [
        "density(X), density(Y)"
      ]
    },
    {
      "cell_type": "code",
      "execution_count": null,
      "metadata": {},
      "outputs": [],
      "source": [
        "{(x, y): P(And(Le(X, x), Le(Y, y))) for x in range(1, 7) for y in range(1, 7)}"
      ]
    },
    {
      "cell_type": "code",
      "execution_count": null,
      "metadata": {},
      "outputs": [],
      "source": [
        "X1 = DiscreteUniform('X1', range(1, 7))\n",
        "X2 = DiscreteUniform('X2', range(1, 7))\n",
        "X, Y = Max(X1, X2), Min(X1, X2)\n",
        "\n",
        "(E(X), E(Y),               # 平均\n",
        " variance(X), variance(Y), # 分散\n",
        " std(X), std(Y),           # 標準偏差\n",
        " covariance(X, Y),         # 共分散\n",
        " correlation(X, Y))        # 相関係数"
      ]
    },
    {
      "cell_type": "code",
      "execution_count": null,
      "metadata": {},
      "outputs": [],
      "source": [
        "uX, uY = E(X), E(Y); sX, sY = std(X), std(Y)\n",
        "(E(X), E(Y),                       # 平均\n",
        " E((X - uX)**2), E((Y - uY)**2),   # 分散\n",
        " E((X - uX) * (Y - uY)),           # 共分散\n",
        " E((X - uX) * (Y - uY) / sX / sY)) # 相関係数"
      ]
    },
    {
      "cell_type": "code",
      "execution_count": null,
      "metadata": {},
      "outputs": [],
      "source": [
        "print(sum((x * P(Eq(X, x)) for x in range(1, 7))))         # 平均\n",
        "print(sum((x - uX) * (y - uY) * P(And(Eq(X, x), Eq(Y, y))) # 共分散\n",
        "          for x in range(1, 7) for y in range(1, 7)))"
      ]
    },
    {
      "cell_type": "code",
      "execution_count": null,
      "metadata": {},
      "outputs": [],
      "source": [
        "[P(And(X <= x, Y <= y)) for x in range(1, 7) for y in range(1, 7)] == \\\n",
        "[P(X <= x) * P(Y <= y) for x in range(1, 7) for y in range(1, 7)]"
      ]
    },
    {
      "cell_type": "code",
      "execution_count": null,
      "metadata": {},
      "outputs": [],
      "source": [
        "U = DiscreteUniform('X', range(1, 7)); X = U % 2; Y = U % 3\n",
        "[P(And(X <= x, Y <= y)) for x in range(2) for y in range(3)] == \\\n",
        "[P(X <= x) * P(Y <= y) for x in range(2) for y in range(3)]"
      ]
    },
    {
      "cell_type": "code",
      "execution_count": null,
      "metadata": {},
      "outputs": [],
      "source": [
        "X = Binomial('X', 3, sym.S(1) / 2)\n",
        "Y = Piecewise((1, Or(Eq(X, 0), Eq(X, 3))), (2, True))\n",
        "covariance(X, Y)"
      ]
    },
    {
      "cell_type": "code",
      "execution_count": null,
      "metadata": {},
      "outputs": [],
      "source": [
        "[P(And(X <= x, Y <= y)) for x in range(4) for y in (1, 2)] == \\\n",
        "[P(X <= x) * P(Y <= y) for x in range(4) for y in (1, 2)]"
      ]
    },
    {
      "cell_type": "code",
      "execution_count": null,
      "metadata": {},
      "outputs": [],
      "source": [
        "X1 = DiscreteUniform('X1', range(1, 7))\n",
        "X2 = DiscreteUniform('X2', range(1, 7))\n",
        "X, Y = Max(X1, X2), Min(X1, X2)\n",
        "\n",
        "(E(X + Y), E(X) + E(Y),                                             # 平均\n",
        " variance(X + Y), variance(X) + variance(Y) + 2 * covariance(X, Y)) # 分散"
      ]
    },
    {
      "cell_type": "code",
      "execution_count": null,
      "metadata": {},
      "outputs": [],
      "source": [
        "n = 15; p = sym.S(4) / 10; Y = Binomial('Y', n, p)\n",
        "mu = E(Y); sigma = std(Y); Z = Normal('Z', mu, sigma)\n",
        "x1 = range(0, n + 1); y1 = [density(Y)(x) for x in x1]\n",
        "x2 = np.linspace(0, n, 101); y2 = [density(Z)(t) for t in x2]\n",
        "_, ax = plt.subplots(); ax.scatter(x1, y1); ax.plot(x2, y2);"
      ]
    },
    {
      "cell_type": "code",
      "execution_count": null,
      "metadata": {},
      "outputs": [],
      "source": [
        "n = 15; p = 4 / 10; Y = stats.binom(n, p)\n",
        "mu = Y.mean(); sigma = Y.std(); Z = stats.norm(mu, sigma)\n",
        "x1 = range(0, n + 1); y1 = Y.pmf(x1)\n",
        "x2 = np.linspace(0, n, 101); y2 = Z.pdf(x2)\n",
        "_, ax = plt.subplots(); ax.scatter(x1, y1); ax.plot(x2, y2);"
      ]
    },
    {
      "cell_type": "code",
      "execution_count": null,
      "metadata": {},
      "outputs": [],
      "source": [
        "X = Uniform('X', 0, 1); Z = Normal('Z', 0, 1)\n",
        "data = [sum(sample_iter(X, numsamples=12)) - 6 for _ in range(10000)]\n",
        "x = np.linspace(-4, 4, 101); y = [density(Z)(t) for t in x]\n",
        "_, ax = plt.subplots(); ax.hist(data, density=True, alpha=0.5); ax.plot(x, y);"
      ]
    },
    {
      "cell_type": "code",
      "execution_count": null,
      "metadata": {},
      "outputs": [],
      "source": [
        "X = stats.uniform(); Z = stats.norm()\n",
        "data = [sum(X.rvs(12)) - 6 for _ in range(10000)]\n",
        "x = np.linspace(-4, 4, 101); y = Z.pdf(x)\n",
        "_, ax = plt.subplots(); ax.hist(data, density=True, alpha=0.5); ax.plot(x, y);"
      ]
    },
    {
      "cell_type": "code",
      "execution_count": null,
      "metadata": {},
      "outputs": [],
      "source": [
        "mu = [3, 6]; Sigma = [[5, 7], [7, 13]];\n",
        "rv = stats.multivariate_normal(mu, Sigma)\n",
        "Y1, Y2 = np.mgrid[-8:14:0.1, -5:17:0.1]\n",
        "grid = np.dstack((Y1, Y2))\n",
        "z = rv.pdf(grid)\n",
        "fig = plt.figure()\n",
        "ax = fig.add_subplot(111, projection='3d')\n",
        "ax.plot_surface(Y1, Y2, z, cmap='viridis')\n",
        "ax.set_xlabel('Y1'); ax.set_ylabel('Y2');"
      ]
    },
    {
      "cell_type": "code",
      "execution_count": null,
      "metadata": {},
      "outputs": [],
      "source": [
        "plt.contourf(Y1, Y2, z, cmap='viridis'); plt.xlabel('Y1'); plt.ylabel('Y2');"
      ]
    },
    {
      "cell_type": "markdown",
      "source": "# 10 推測統計",
      "metadata": {}
    },
    {
      "cell_type": "code",
      "execution_count": null,
      "metadata": {},
      "outputs": [],
      "source": [
        "mu = 2; sigma = 3; rv = stats.norm(mu, sigma)\n",
        "data1 = [rv.rvs(5).mean() for _ in range(10000)]\n",
        "data2 = [rv.rvs(50).mean() for _ in range(10000)]\n",
        "((np.mean(data1), np.var(data1)), (np.mean(data2), np.var(data2)))"
      ]
    },
    {
      "cell_type": "code",
      "execution_count": null,
      "metadata": {},
      "outputs": [],
      "source": [
        "plt.hist(data1, density=True), plt.hist(data2, alpha=0.7, density=True);"
      ]
    },
    {
      "cell_type": "code",
      "execution_count": null,
      "metadata": {},
      "outputs": [],
      "source": [
        "mu = 2; sigma = 3; rv = stats.norm(mu, sigma)\n",
        "data1 = [rv.rvs(5).var(ddof=1) for _ in range(10000)]\n",
        "data2 = [rv.rvs(50).var(ddof=1) for _ in range(10000)]\n",
        "((np.mean(data1), np.var(data1)), (np.mean(data2), np.var(data2)))"
      ]
    },
    {
      "cell_type": "code",
      "execution_count": null,
      "metadata": {},
      "outputs": [],
      "source": [
        "plt.hist(data1, density=True), plt.hist(data2, alpha=0.7, density=True);"
      ]
    },
    {
      "cell_type": "code",
      "execution_count": null,
      "metadata": {},
      "outputs": [],
      "source": [
        "n = 4; mu = 5; sigma = 7; rv = stats.norm(mu, sigma)\n",
        "f = lambda x: (n - 1) * x.var(ddof=1) / sigma**2\n",
        "data = [f(rv.rvs(n)) for _ in range(10000)]\n",
        "x = np.linspace(0, 20, 101); y = stats.chi2(n - 1).pdf(x)\n",
        "_, ax = plt.subplots()\n",
        "ax.hist(data, bins='sturges', density=True, alpha=0.5)\n",
        "ax.plot(x, y);"
      ]
    },
    {
      "cell_type": "code",
      "execution_count": null,
      "metadata": {},
      "outputs": [],
      "source": [
        "n = 4; mu = 5; sigma = 7; rv = stats.norm(mu, sigma)\n",
        "t = lambda x: (x.mean() - mu) / np.sqrt(x.var(ddof=1) / n)\n",
        "data = [t(rv.rvs(n)) for _ in range(10000)]\n",
        "x = np.linspace(-5, 5, 101); y = stats.t(n - 1).pdf(x)\n",
        "_, ax = plt.subplots()\n",
        "ax.hist(data, density=True, bins=np.arange(-5, 5, 0.5), alpha=0.5)\n",
        "ax.plot(x, y);"
      ]
    },
    {
      "cell_type": "code",
      "execution_count": null,
      "metadata": {},
      "outputs": [],
      "source": [
        "m = 5; muX = 2; sigmaX = 3; rvX = stats.norm(muX, sigmaX)\n",
        "n = 7; muY = 3; sigmaY = 2; rvY = stats.norm(muY, sigmaY)\n",
        "f = lambda x, y: (x.var(ddof=1) / sigmaX**2) / (y.var(ddof=1) / sigmaY**2)\n",
        "data = [f(rvX.rvs(m), rvY.rvs(n)) for _ in range(10000)]\n",
        "x = np.linspace(0, 5, 101); y = stats.f(m - 1, n - 1).pdf(x)\n",
        "_, ax = plt.subplots()\n",
        "ax.hist(data, density=True, bins=np.arange(0, 5.2, 0.2), alpha=0.5)\n",
        "ax.plot(x, y);"
      ]
    },
    {
      "cell_type": "code",
      "execution_count": null,
      "metadata": {},
      "outputs": [],
      "source": [
        "n = 15; p0 = 4 / 10; binom_test(2, n, p0)"
      ]
    },
    {
      "cell_type": "code",
      "execution_count": null,
      "metadata": {},
      "outputs": [],
      "source": [
        "binom_test(2, n, p0, alternative=\"smaller\")"
      ]
    },
    {
      "cell_type": "code",
      "execution_count": null,
      "metadata": {},
      "outputs": [],
      "source": [
        "n = 15; p0 = 4 / 10; mu0 = n * p0; sigma0 = np.sqrt((n * p0 * (1 - p0)))\n",
        "2 * stats.norm.cdf(2, mu0, sigma0)"
      ]
    },
    {
      "cell_type": "code",
      "execution_count": null,
      "metadata": {},
      "outputs": [],
      "source": [
        "alpha = 5 / 100; stats.norm.ppf((alpha/2, 1 - alpha/2), mu0, sigma0)"
      ]
    },
    {
      "cell_type": "code",
      "execution_count": null,
      "metadata": {},
      "outputs": [],
      "source": [
        "x = [24.2, 25.3, 26.2, 25.7, 24.4, 25.1, 25.6]; d = DescrStatsW(x); mu0 = 25\n",
        "d.ttest_mean(mu0)"
      ]
    },
    {
      "cell_type": "code",
      "execution_count": null,
      "metadata": {},
      "outputs": [],
      "source": [
        "m = np.mean(x); s2 = np.var(x, ddof=1); n = len(x);\n",
        "t = (m - mu0) / np.sqrt(s2 / n); c = stats.t.cdf(t, n - 1)\n",
        "2 * min(c, 1 - c)"
      ]
    },
    {
      "cell_type": "code",
      "execution_count": null,
      "metadata": {},
      "outputs": [],
      "source": [
        "alpha = 5 / 100\n",
        "stats.t.ppf((alpha / 2, 1 - alpha / 2), n - 1)"
      ]
    },
    {
      "cell_type": "code",
      "execution_count": null,
      "metadata": {},
      "outputs": [],
      "source": [
        "d.tconfint_mean()"
      ]
    },
    {
      "cell_type": "code",
      "execution_count": null,
      "metadata": {},
      "outputs": [],
      "source": [
        "x = [25, 24, 25, 26]; y = [23, 18, 22, 28, 17, 25, 19, 16]\n",
        "ttest_ind(x, y, alternative=\"larger\", usevar='unequal')"
      ]
    },
    {
      "cell_type": "code",
      "execution_count": null,
      "metadata": {},
      "outputs": [],
      "source": [
        "tmp = CompareMeans(DescrStatsW(x), DescrStatsW(y))\n",
        "tmp.tconfint_diff(alternative=\"larger\", usevar='unequal')"
      ]
    },
    {
      "cell_type": "code",
      "execution_count": null,
      "metadata": {},
      "outputs": [],
      "source": [
        "x = [25, 24, 25, 26]; y = [23, 18, 22, 28, 17, 25, 19, 16]\n",
        "f = np.var(x, ddof=1) / np.var(y, ddof=1); m = len(x); n = len(y);\n",
        "c = stats.f.cdf(f, m - 1, n - 1)\n",
        "f, 2 * min(c, 1 - c)"
      ]
    },
    {
      "cell_type": "code",
      "execution_count": null,
      "metadata": {},
      "outputs": [],
      "source": [
        "alpha = 0.05\n",
        "stats.f.ppf((alpha / 2, 1 - alpha / 2), m - 1, n - 1)"
      ]
    },
    {
      "cell_type": "markdown",
      "source": "# 11 線形回帰分析",
      "metadata": {}
    },
    {
      "cell_type": "code",
      "execution_count": null,
      "metadata": {},
      "outputs": [],
      "source": [
        "data = pd.DataFrame({\n",
        "    'x1': [1, 1, 2, 3], 'x2': [2, 3, 5, 7], 'y': [3, 6, 3, 6]})\n",
        "model = smf.ols('y ~ x1 + x2', data).fit()\n",
        "print(model.summary2(alpha=0.05))\n",
        "#                 Results: Ordinary least squares\n",
        "# ================================================================\n",
        "# Model:              OLS              Adj. R-squared:     -1.000\n",
        "# Dependent Variable: y                AIC:                18.9734\n",
        "# Date:               2023-01-01 00:00 BIC:                17.1323\n",
        "# No. Observations:   4                Log-Likelihood:     -6.4867\n",
        "# Df Model:           2                F-statistic:        0.2500\n",
        "# Df Residuals:       1                Prob (F-statistic): 0.816\n",
        "# R-squared:          0.333            Scale:              6.0000\n",
        "# -----------------------------------------------------------------\n",
        "#             Coef.   Std.Err.     t     P>|t|     [0.025    0.975]\n",
        "# -----------------------------------------------------------------\n",
        "# const       3.0000    3.0000   1.0000  0.5000   -35.1186  41.1186\n",
        "# x1         -4.0000    7.6811  -0.5208  0.6943  -101.5982  93.5982\n",
        "# x2          2.0000    3.3166   0.6030  0.6545   -40.1417  44.1417\n",
        "# ----------------------------------------------------------------\n",
        "# Omnibus:              nan          Durbin-Watson:          3.167\n",
        "# Prob(Omnibus):        nan          Jarque-Bera (JB):       0.611\n",
        "# Skew:                 -0.816       Prob(JB):               0.737\n",
        "# Kurtosis:             2.000        Condition No.:          35\n",
        "# ================================================================"
      ]
    },
    {
      "cell_type": "code",
      "execution_count": null,
      "metadata": {},
      "outputs": [],
      "source": [
        "model.predict({'x1': 1.5, 'x2': 4})"
      ]
    },
    {
      "cell_type": "code",
      "execution_count": null,
      "metadata": {},
      "outputs": [],
      "source": [
        "x1 = np.array([1, 3, 6, 10]); y = np.array([7, 1, 6, 14])\n",
        "def L(b):\n",
        "    e = y - (b[0] + b[1] * x1)\n",
        "    return e @ e # 内積\n",
        "minimize(L, x0=[0, 0])"
      ]
    },
    {
      "cell_type": "code",
      "execution_count": null,
      "metadata": {},
      "outputs": [],
      "source": [
        "data = pd.DataFrame({\n",
        "    'x1': [1, 1, 2, 3], 'x2': [2, 3, 5, 7], 'y': [3, 6, 3, 6]})\n",
        "y, X = dmatrices('y ~ x1 + x2', data)\n",
        "linalg.inv(X.T @ X) @ X.T @ y"
      ]
    },
    {
      "cell_type": "code",
      "execution_count": null,
      "metadata": {},
      "outputs": [],
      "source": [
        "linalg.pinv(X) @ y"
      ]
    },
    {
      "cell_type": "code",
      "execution_count": null,
      "metadata": {},
      "outputs": [],
      "source": [
        "data = pd.DataFrame({\n",
        "    'x1': [1, 1, 2, 3], 'x2': [2, 3, 5, 7], 'y': [3, 6, 3, 6]})\n",
        "model = smf.ols('y ~ x1 + x2', data).fit()\n",
        "model.rsquared"
      ]
    },
    {
      "cell_type": "code",
      "execution_count": null,
      "metadata": {},
      "outputs": [],
      "source": [
        "model.rsquared_adj"
      ]
    },
    {
      "cell_type": "code",
      "execution_count": null,
      "metadata": {},
      "outputs": [],
      "source": [
        "x1 = [1, 3, 6, 10]; y = [7, 1, 6, 14]\n",
        "data = pd.DataFrame({'x1': x1, 'y': y})\n",
        "_, X = dmatrices('y ~ x1', data)\n",
        "yh = X @ linalg.pinv(X) @ y\n",
        "eh = y - yh; fh = yh - np.mean(y); g = y - np.mean(y)\n",
        "R2 = 1 - np.dot(eh, eh) / np.dot(g, g); R2"
      ]
    },
    {
      "cell_type": "code",
      "execution_count": null,
      "metadata": {},
      "outputs": [],
      "source": [
        "(np.allclose(eh.mean(), 0),                                  # 特徴1\n",
        " np.allclose(yh.mean(), data.y.mean()),                      # 特徴2\n",
        " np.allclose(np.dot(g, g), np.dot(fh, fh) + np.dot(eh, eh)), # 特徴3\n",
        " np.allclose(R2, np.dot(fh, fh) / np.dot(g, g)),             # 特徴4\n",
        " np.allclose(R2, np.corrcoef(y, yh)[0, 1]**2),               # 特徴5\n",
        " 0 <= R2 <= 1,                                               # 特徴6\n",
        " np.allclose(np.corrcoef(y, yh)**2, np.corrcoef(y, x1)**2))  # 特徴7"
      ]
    },
    {
      "cell_type": "code",
      "execution_count": null,
      "metadata": {},
      "outputs": [],
      "source": [
        "data = pd.DataFrame({\n",
        "    'x1': [1, 1, 2, 3], 'x2': [2, 3, 5, 7], 'y': [3, 6, 3, 6]})\n",
        "model = smf.ols('y ~ x1 + x2', data).fit()\n",
        "model.scale"
      ]
    },
    {
      "cell_type": "code",
      "execution_count": null,
      "metadata": {},
      "outputs": [],
      "source": [
        "data = pd.DataFrame({\n",
        "    'x1': [1, 1, 2, 3], 'x2': [2, 3, 5, 7], 'y': [3, 6, 3, 6]})\n",
        "model = smf.ols('y ~ x1 + x2', data).fit()\n",
        "model.f_pvalue"
      ]
    },
    {
      "cell_type": "code",
      "execution_count": null,
      "metadata": {},
      "outputs": [],
      "source": [
        "data = pd.DataFrame({'x1': [35, 45, 55, 65, 75],\n",
        "                     'y': [114, 124, 143, 158, 166]})\n",
        "model = smf.ols('y ~ x1', data).fit()\n",
        "print(model.summary2(alpha=0.05)) # 信頼区間はこのレポートにも表示される．\n",
        "model.conf_int(alpha=0.05)"
      ]
    },
    {
      "cell_type": "code",
      "execution_count": null,
      "metadata": {},
      "outputs": [],
      "source": [
        "data = pd.DataFrame({'x1': [35, 45, 55, 65, 75],\n",
        "                     'y': [114, 124, 143, 158, 166]})\n",
        "model = smf.ols('y ~ x1', data).fit()\n",
        "tmp = pd.DataFrame({'x1': np.linspace(35, 75, 100)})\n",
        "ci = model.get_prediction(tmp).summary_frame(alpha=0.05)\n",
        "df = ci[['mean', 'mean_ci_lower', 'mean_ci_upper']].assign(x1=tmp.x1)\n",
        "_, ax = plt.subplots()\n",
        "ax.scatter(data.x1, data.y)\n",
        "df.plot(x='x1', ax=ax);"
      ]
    },
    {
      "cell_type": "code",
      "execution_count": null,
      "metadata": {},
      "outputs": [],
      "source": [
        "df = ci[['mean', 'obs_ci_lower', 'obs_ci_upper']].assign(x1=tmp.x1)\n",
        "_, ax = plt.subplots()\n",
        "ax.scatter(data.x1, data.y)\n",
        "df.plot(x='x1', ax=ax);"
      ]
    },
    {
      "cell_type": "code",
      "execution_count": null,
      "metadata": {},
      "outputs": [],
      "source": [
        "sns.regplot(x=data.x1, y=data.y, ci=95);"
      ]
    },
    {
      "cell_type": "markdown",
      "source": "# 12 関数の極限と連続性",
      "metadata": {}
    },
    {
      "cell_type": "code",
      "execution_count": null,
      "metadata": {},
      "outputs": [],
      "source": [
        "f = lambda x: 2 * x - 3; var('x')\n",
        "limit(f(x), x, 1)"
      ]
    },
    {
      "cell_type": "code",
      "execution_count": null,
      "metadata": {},
      "outputs": [],
      "source": [
        "limit(2 * x - 3, x, 1)"
      ]
    },
    {
      "cell_type": "code",
      "execution_count": null,
      "metadata": {},
      "outputs": [],
      "source": [
        "g = lambda x: (x**2 - 2) / (x - sqrt(2))\n",
        "limit(g(x), x, sqrt(2))"
      ]
    },
    {
      "cell_type": "code",
      "execution_count": null,
      "metadata": {},
      "outputs": [],
      "source": [
        "limit((1 + 1 / x)**x, x, oo)"
      ]
    },
    {
      "cell_type": "code",
      "execution_count": null,
      "metadata": {},
      "outputs": [],
      "source": [
        "limit(1 / x**2, x, 0)"
      ]
    },
    {
      "cell_type": "code",
      "execution_count": null,
      "metadata": {},
      "outputs": [],
      "source": [
        "limit(abs(x) / x, x, 0, dir='+'), limit(abs(x) / x, x, 0, dir='-')"
      ]
    },
    {
      "cell_type": "markdown",
      "source": "# 13 微分",
      "metadata": {}
    },
    {
      "cell_type": "code",
      "execution_count": null,
      "metadata": {},
      "outputs": [],
      "source": [
        "f = lambda x: x**3; var('h'); a = 1\n",
        "limit((f(a + h) - f(a)) / h, h, 0)"
      ]
    },
    {
      "cell_type": "code",
      "execution_count": null,
      "metadata": {},
      "outputs": [],
      "source": [
        "f = lambda x: x**3; var('x')\n",
        "diff(f(x), x)"
      ]
    },
    {
      "cell_type": "code",
      "execution_count": null,
      "metadata": {},
      "outputs": [],
      "source": [
        "f = lambda x: x**3; var('x')\n",
        "f1 = Lambda(x, diff(f(x), x))\n",
        "f2 = diff(f(x), x)\n",
        "f1, f2"
      ]
    },
    {
      "cell_type": "code",
      "execution_count": null,
      "metadata": {},
      "outputs": [],
      "source": [
        "f1(1), f2.subs(x, 1)"
      ]
    },
    {
      "cell_type": "code",
      "execution_count": null,
      "metadata": {},
      "outputs": [],
      "source": [
        "diff(x**3, x, 2)"
      ]
    },
    {
      "cell_type": "code",
      "execution_count": null,
      "metadata": {},
      "outputs": [],
      "source": [
        "var('a b t x')\n",
        "f = lambda t: t**2\n",
        "g = lambda x: a * x + b\n",
        "fp = Lambda(t, diff(f(t), t)); gp = Lambda(x, diff(g(x), x))\n",
        "(Lambda(x, diff(Lambda(x, f(g(x)))(x), x))(x), # ①\n",
        " diff(f(g(x)), x),                             # ②\n",
        " diff(f(t), t).subs(t, g(x)) * diff(g(x), x),  # ③\n",
        " fp(g(x)) * gp(x))                             # ④"
      ]
    },
    {
      "cell_type": "code",
      "execution_count": null,
      "metadata": {},
      "outputs": [],
      "source": [
        "var('x'); tmp = series(sin(x), x, x0=0, n=6); tmp"
      ]
    },
    {
      "cell_type": "code",
      "execution_count": null,
      "metadata": {},
      "outputs": [],
      "source": [
        "plot(*(tmp.removeO(), sin(x)), (x, -pi, pi));"
      ]
    },
    {
      "cell_type": "code",
      "execution_count": null,
      "metadata": {},
      "outputs": [],
      "source": [
        "a = 0;\n",
        "np.sum([diff(sin(x), x, k).subs(x, a) * (x - a)**k / factorial(k)\n",
        "        for k in range(6)])"
      ]
    },
    {
      "cell_type": "code",
      "execution_count": null,
      "metadata": {},
      "outputs": [],
      "source": [
        "f = lambda x: x**3 - 12 * x; var('x')\n",
        "sol = solve(diff(f(x), x), x); print(sol)\n",
        "series(f(x), x0=sol[0], n=3)"
      ]
    },
    {
      "cell_type": "markdown",
      "source": "# 14 積分",
      "metadata": {}
    },
    {
      "cell_type": "code",
      "execution_count": null,
      "metadata": {},
      "outputs": [],
      "source": [
        "var('x')\n",
        "integrate(-x**2 + 4 * x + 1, (x, 1, 4))"
      ]
    },
    {
      "cell_type": "code",
      "execution_count": null,
      "metadata": {},
      "outputs": [],
      "source": [
        "f = lambda x: -x**2 + 4 * x + 1; var('k n')\n",
        "a = 1; b = 4; h = (b - a) / n\n",
        "s = simplify(Sum(f(a + h * k) * h, (k, 1, n)).doit()); print(s)\n",
        "limit(s, n, oo)"
      ]
    },
    {
      "cell_type": "code",
      "execution_count": null,
      "metadata": {},
      "outputs": [],
      "source": [
        "var('a t x'); integrate(-t**2 + 4 * t + 1, (t, a, x))"
      ]
    },
    {
      "cell_type": "code",
      "execution_count": null,
      "metadata": {},
      "outputs": [],
      "source": [
        "integrate(-x**2 + 4 * x + 1, x)"
      ]
    },
    {
      "cell_type": "code",
      "execution_count": null,
      "metadata": {},
      "outputs": [],
      "source": [
        "var('x'); y = Function('y')\n",
        "dsolve(Eq(diff(y(x), x), -x**2 + 4 * x + 1), y(x))"
      ]
    },
    {
      "cell_type": "code",
      "execution_count": null,
      "metadata": {},
      "outputs": [],
      "source": [
        "dsolve(Eq(diff(y(x), x), -x**2 + 4 * x + 1), y(x), ics={y(0): 1})"
      ]
    },
    {
      "cell_type": "code",
      "execution_count": null,
      "metadata": {},
      "outputs": [],
      "source": [
        "tmp = dsolve(Eq(diff(y(x), x), -x * y(x)), y(x)); tmp"
      ]
    },
    {
      "cell_type": "code",
      "execution_count": null,
      "metadata": {},
      "outputs": [],
      "source": [
        "solve(Eq(integrate(tmp.rhs, (x, -oo, oo)), 1), 'C1')"
      ]
    },
    {
      "cell_type": "code",
      "execution_count": null,
      "metadata": {},
      "outputs": [],
      "source": [
        "f = Function('f'); var('a t x')\n",
        "Lambda(x, diff(Lambda(x, integrate(f(t), (t, a, x)))(x), x))"
      ]
    },
    {
      "cell_type": "code",
      "execution_count": null,
      "metadata": {},
      "outputs": [],
      "source": [
        "diff(integrate(f(t), (t, a, x)), x)"
      ]
    },
    {
      "cell_type": "code",
      "execution_count": null,
      "metadata": {},
      "outputs": [],
      "source": [
        "var('x')\n",
        "F = integrate(-x**2 + 4 * x + 1, x)\n",
        "F.subs(x, 4) - F.subs(x, 1)"
      ]
    },
    {
      "cell_type": "code",
      "execution_count": null,
      "metadata": {},
      "outputs": [],
      "source": [
        "var('x'); integrate((x**2 + 2 * x + 1 + (3 * x + 1) * sqrt(x + log(x))) /\n",
        "                    (x * sqrt(x + log(x)) * (x + sqrt(x + log(x)))), x)"
      ]
    },
    {
      "cell_type": "code",
      "execution_count": null,
      "metadata": {},
      "outputs": [],
      "source": [
        "var('a x')\n",
        "simplify(integrate(1/x**a, (x, 0, 1)))"
      ]
    },
    {
      "cell_type": "code",
      "execution_count": null,
      "metadata": {},
      "outputs": [],
      "source": [
        "integrate(1/x**a, (x, 1, oo))"
      ]
    },
    {
      "cell_type": "code",
      "execution_count": null,
      "metadata": {},
      "outputs": [],
      "source": [
        "var('x'); integrate(exp(-x**2), (x, -oo, oo))"
      ]
    },
    {
      "cell_type": "markdown",
      "source": "# 15 多変数関数の微分積分",
      "metadata": {}
    },
    {
      "cell_type": "code",
      "execution_count": null,
      "metadata": {},
      "outputs": [],
      "source": [
        "f = lambda x, y: x**2 * y / (x**4 + y**2); var('x y r theta')\n",
        "(limit(limit(f(x, y), x, 0), y, 0),              # ①\n",
        " limit(limit(f(x, y), y, 0), x, 0),              # ②\n",
        " limit(f(r * cos(theta), r * sin(theta)), r, 0), # ③\n",
        " limit(f(x, x**2), x, 0))                        # ④"
      ]
    },
    {
      "cell_type": "code",
      "execution_count": null,
      "metadata": {},
      "outputs": [],
      "source": [
        "f = lambda x, y: 2 - x**2 - y**2; var('x y')\n",
        "(diff(f(x, y), x), diff(f(x, y), y))"
      ]
    },
    {
      "cell_type": "code",
      "execution_count": null,
      "metadata": {},
      "outputs": [],
      "source": [
        "diff(f(x, y), Matrix([x, y]))"
      ]
    },
    {
      "cell_type": "code",
      "execution_count": null,
      "metadata": {},
      "outputs": [],
      "source": [
        "f = lambda x, y: 2 * x**3 + 5 * x * y + 2 * y**2; var('x y')\n",
        "hessian(f(x, y), Matrix([x, y]))"
      ]
    },
    {
      "cell_type": "code",
      "execution_count": null,
      "metadata": {},
      "outputs": [],
      "source": [
        "f = lambda x: sqrt(x[0]**2 + x[1]**2); var('x1 x2 t');\n",
        "x = Matrix([x1, x2]); a = Matrix([1, 1]); h = x - a;\n",
        "F = lambda t: f(a + t * h)\n",
        "expr = series(F(t), t, x0=0, n=3).removeO().subs(t, 1)\n",
        "simplify(expr)"
      ]
    },
    {
      "cell_type": "code",
      "execution_count": null,
      "metadata": {},
      "outputs": [],
      "source": [
        "gradf = diff(f(x), x).subs(zip(x, a))\n",
        "H = hessian(f(x), x).subs(zip(x, a))\n",
        "simplify(f(a) + gradf.dot(x - a) + (x - a).dot(H @ (x - a)) / 2)"
      ]
    },
    {
      "cell_type": "code",
      "execution_count": null,
      "metadata": {},
      "outputs": [],
      "source": [
        "f = lambda x: 2 * x[0]**3 + x[0] * x[1]**2 + 5 * x[0]**2 + x[1]**2\n",
        "var('x1 x2', real=True); x = Matrix([x1, x2])       # x1, x2は実数\n",
        "points = solve(diff(f(x), x), x)                    # 停留点\n",
        "H = hessian(f(x), x)                                # ヘッセ行列\n",
        "def check(H, a):\n",
        "    h = H.subs(zip(x, a))                           # 停留点でのヘッセ行列\n",
        "    if h.is_positive_definite: return (a, f(a), -1) # 極小\n",
        "    if h.is_negative_definite: return (a, f(a), 1)  # 極大\n",
        "    if h.is_indefinite: return (a, f(a), 0)         # 極値ではない\n",
        "    else: return (a, f(a), None)                    # 不明\n",
        "[check(H, a) for a in points]"
      ]
    },
    {
      "cell_type": "code",
      "execution_count": null,
      "metadata": {},
      "outputs": [],
      "source": [
        "f = lambda x, y: x**2 + y**2; var('x y')\n",
        "integrate(integrate(f(x, y), (y, 0, x)), (x, 0, 1))"
      ]
    },
    {
      "cell_type": "code",
      "execution_count": null,
      "metadata": {},
      "outputs": [],
      "source": [
        "integrate(integrate(f(x, y), (x, y, 1)), (y, 0, 1))"
      ]
    },
    {
      "cell_type": "code",
      "execution_count": null,
      "metadata": {},
      "outputs": [],
      "source": [
        "f = lambda x, y: x**2 + y**2; var('u v')\n",
        "x, y = 2 * u, 3 * v\n",
        "J = Matrix([x, y]).jacobian((u, v))\n",
        "detJ = J.det(); print(detJ)\n",
        "integrate(integrate(f(x, y) * abs(detJ),\n",
        "                    (v, 0, 2 * u / 3)), (u, 0, sym.S(1) / 2))"
      ]
    },
    {
      "cell_type": "code",
      "execution_count": null,
      "metadata": {},
      "outputs": [],
      "source": [
        "var('r theta'); x, y = r * cos(theta), r * sin(theta)\n",
        "J = Matrix([x, y]).jacobian((r, theta))\n",
        "simplify(J.det())"
      ]
    },
    {
      "cell_type": "markdown",
      "source": "# 16 ベクトル",
      "metadata": {}
    },
    {
      "cell_type": "code",
      "execution_count": null,
      "metadata": {},
      "outputs": [],
      "source": [
        "a = Matrix([2, 3, 5]); len(a)"
      ]
    },
    {
      "cell_type": "code",
      "execution_count": null,
      "metadata": {},
      "outputs": [],
      "source": [
        "10 * Matrix([2, 3])"
      ]
    },
    {
      "cell_type": "code",
      "execution_count": null,
      "metadata": {},
      "outputs": [],
      "source": [
        "u = Matrix([10, 20]); v = Matrix([2, 3]); u + v"
      ]
    },
    {
      "cell_type": "code",
      "execution_count": null,
      "metadata": {},
      "outputs": [],
      "source": [
        "t = sym.S(10)\n",
        "a = Matrix([1 / t + 2 / t, 1 / t + 2 / t - 3 / t]); b = Matrix([3 / t, 0])\n",
        "a == b"
      ]
    },
    {
      "cell_type": "code",
      "execution_count": null,
      "metadata": {},
      "outputs": [],
      "source": [
        "a = np.array([1/10 + 2/10, 1/10 + 2/10 - 3/10]); b = np.array([3/10, 0])\n",
        "np.allclose(a, b)"
      ]
    },
    {
      "cell_type": "code",
      "execution_count": null,
      "metadata": {},
      "outputs": [],
      "source": [
        "100 * Matrix([1, 2]) + 10 * Matrix([3, 1])"
      ]
    },
    {
      "cell_type": "code",
      "execution_count": null,
      "metadata": {},
      "outputs": [],
      "source": [
        "100 * np.array([1, 2]) + 10 * np.array([3, 1])"
      ]
    },
    {
      "cell_type": "code",
      "execution_count": null,
      "metadata": {},
      "outputs": [],
      "source": [
        "a = Matrix([3, 4])\n",
        "a.norm()"
      ]
    },
    {
      "cell_type": "code",
      "execution_count": null,
      "metadata": {},
      "outputs": [],
      "source": [
        "a = np.array([3, 4])\n",
        "linalg.norm(a)"
      ]
    },
    {
      "cell_type": "code",
      "execution_count": null,
      "metadata": {},
      "outputs": [],
      "source": [
        "var('x y'); a = Matrix([x, y]); sqrt(a.dot(a))"
      ]
    },
    {
      "cell_type": "code",
      "execution_count": null,
      "metadata": {},
      "outputs": [],
      "source": [
        "var('x y', real=True); a = Matrix([x, y]); a.norm()"
      ]
    },
    {
      "cell_type": "code",
      "execution_count": null,
      "metadata": {},
      "outputs": [],
      "source": [
        "a = Matrix([3, 4])\n",
        "a.normalized()"
      ]
    },
    {
      "cell_type": "code",
      "execution_count": null,
      "metadata": {},
      "outputs": [],
      "source": [
        "a = np.array([3, 4])\n",
        "a / linalg.norm(a)"
      ]
    },
    {
      "cell_type": "code",
      "execution_count": null,
      "metadata": {},
      "outputs": [],
      "source": [
        "a = Matrix([1, 0]); b = Matrix([1, 1])\n",
        "acos(a.dot(b) / (a.norm() * b.norm()))"
      ]
    },
    {
      "cell_type": "code",
      "execution_count": null,
      "metadata": {},
      "outputs": [],
      "source": [
        "a = np.array([1, 0]); b = np.array([1, 1])\n",
        "np.arccos(a @ b / (linalg.norm(a) * linalg.norm(b)))"
      ]
    },
    {
      "cell_type": "markdown",
      "source": "# 17 行列",
      "metadata": {}
    },
    {
      "cell_type": "code",
      "execution_count": null,
      "metadata": {},
      "outputs": [],
      "source": [
        "A = Matrix([[1, 2, 0], [0, 3, 4]]); A"
      ]
    },
    {
      "cell_type": "code",
      "execution_count": null,
      "metadata": {},
      "outputs": [],
      "source": [
        "A = np.array([[1, 2, 0], [0, 3, 4]]); A"
      ]
    },
    {
      "cell_type": "code",
      "execution_count": null,
      "metadata": {},
      "outputs": [],
      "source": [
        "x = [5, 7]; diag(*x) # diag(x)はNG．diag(5, 7)はOK．"
      ]
    },
    {
      "cell_type": "code",
      "execution_count": null,
      "metadata": {},
      "outputs": [],
      "source": [
        "x = [5, 7]; np.diag(x) # np.diag(*x)はNG．np.diag([5, 7])はOK．"
      ]
    },
    {
      "cell_type": "code",
      "execution_count": null,
      "metadata": {},
      "outputs": [],
      "source": [
        "Matrix([[1, 2], [2, 3]]).is_symmetric()"
      ]
    },
    {
      "cell_type": "code",
      "execution_count": null,
      "metadata": {},
      "outputs": [],
      "source": [
        "A = np.array([[1, 2], [2, 3]])\n",
        "np.allclose(A.T, A)"
      ]
    },
    {
      "cell_type": "code",
      "execution_count": null,
      "metadata": {},
      "outputs": [],
      "source": [
        "A = Matrix([[11, 12, 13], [21, 22, 23], [31, 32, 33]]); A"
      ]
    },
    {
      "cell_type": "code",
      "execution_count": null,
      "metadata": {},
      "outputs": [],
      "source": [
        "An = np.array([[11, 12, 13], [21, 22, 23], [31, 32, 33]]); An"
      ]
    },
    {
      "cell_type": "code",
      "execution_count": null,
      "metadata": {},
      "outputs": [],
      "source": [
        "A[0:2, 0:2], A[:2, :2] # 二つの方法"
      ]
    },
    {
      "cell_type": "code",
      "execution_count": null,
      "metadata": {},
      "outputs": [],
      "source": [
        "An[0:2, 0:2], An[:2, :2] # 二つの方法"
      ]
    },
    {
      "cell_type": "code",
      "execution_count": null,
      "metadata": {},
      "outputs": [],
      "source": [
        "A[:, 2]"
      ]
    },
    {
      "cell_type": "code",
      "execution_count": null,
      "metadata": {},
      "outputs": [],
      "source": [
        "An[:, 2]"
      ]
    },
    {
      "cell_type": "code",
      "execution_count": null,
      "metadata": {},
      "outputs": [],
      "source": [
        "An[:, [2]]"
      ]
    },
    {
      "cell_type": "code",
      "execution_count": null,
      "metadata": {},
      "outputs": [],
      "source": [
        "A[1, :]"
      ]
    },
    {
      "cell_type": "code",
      "execution_count": null,
      "metadata": {},
      "outputs": [],
      "source": [
        "An[1, :]"
      ]
    },
    {
      "cell_type": "code",
      "execution_count": null,
      "metadata": {},
      "outputs": [],
      "source": [
        "An[[1], :]"
      ]
    },
    {
      "cell_type": "code",
      "execution_count": null,
      "metadata": {},
      "outputs": [],
      "source": [
        "10 * Matrix([[2, 3], [5, 7]])"
      ]
    },
    {
      "cell_type": "code",
      "execution_count": null,
      "metadata": {},
      "outputs": [],
      "source": [
        "10 * np.array([[2, 3], [5, 7]])"
      ]
    },
    {
      "cell_type": "code",
      "execution_count": null,
      "metadata": {},
      "outputs": [],
      "source": [
        "Matrix([[10, 20], [30, 40]]) + Matrix([[2, 3], [4, 5]])"
      ]
    },
    {
      "cell_type": "code",
      "execution_count": null,
      "metadata": {},
      "outputs": [],
      "source": [
        "np.array([[10, 20], [30, 40]]) + np.array([[2, 3], [4, 5]])"
      ]
    },
    {
      "cell_type": "code",
      "execution_count": null,
      "metadata": {},
      "outputs": [],
      "source": [
        "A = Matrix([[2, 3], [5, 7]]); B = Matrix([[1, 2], [3, 4]])\n",
        "A @ B"
      ]
    },
    {
      "cell_type": "code",
      "execution_count": null,
      "metadata": {},
      "outputs": [],
      "source": [
        "A = np.array([[2, 3], [5, 7]]); B = np.array([[1, 2], [3, 4]])\n",
        "A @ B"
      ]
    },
    {
      "cell_type": "code",
      "execution_count": null,
      "metadata": {},
      "outputs": [],
      "source": [
        "A = Matrix([[2, 3], [5, 7]]); B = Matrix([[1, 2, 3], [4, 5, 6]]); S = A @ B\n",
        "p, q = A.shape; r, s = B.shape\n",
        "S1 = Matrix([[A[i, :].dot(B[:, j]) for j in range(s)] for i in range(p)]) # ①\n",
        "S2 = sum((A[:, j] @ B[j, :] for j in range(q)), zeros(p, s))              # ②\n",
        "S3 = Matrix.hstack(*[A @ B[:, j] for j in range(s)])                      # ③\n",
        "S4 = Matrix.vstack(*[A[i, :] @ B for i in range(p)])                      # ④\n",
        "S == S1, S == S2, S == S3, S == S4"
      ]
    },
    {
      "cell_type": "code",
      "execution_count": null,
      "metadata": {},
      "outputs": [],
      "source": [
        "A = np.array([[2, 3], [5, 7]]); B = np.array([[1, 2, 3], [4, 5, 6]]); S = A @ B\n",
        "p, q = A.shape; r, s = B.shape\n",
        "S1 = np.array(\n",
        "    [[A[i, :].dot(B[:, j]) for j in range(s)] for i in range(p)])     # ①\n",
        "S2 = sum((A[:, [j]] @ B[[j], :] for j in range(q)), np.zeros([p, s])) # ②\n",
        "S3 = np.vstack([A @ B[:, j] for j in range(s)]).T                     # ③\n",
        "S4 = np.vstack([A[i, :] @ B for i in range(p)])                       # ④\n",
        "np.allclose(S, S1), np.allclose(S, S2), np.allclose(S, S3), np.allclose(S, S4)"
      ]
    },
    {
      "cell_type": "code",
      "execution_count": null,
      "metadata": {},
      "outputs": [],
      "source": [
        "var('a1 a2 x1 x2 p q r s')\n",
        "x = Matrix([x1, x2]); a = Matrix([a1, a2])\n",
        "G = Matrix([[p, q], [q, s]]); A = Matrix([[p, q], [r, s]])\n",
        "(Eq(diff(a.dot(x), x), a),\n",
        " Eq(diff(x.dot(G @ x), x), 2 * G @ x),\n",
        " Eq(simplify(diff((A @ x).dot(A @ x), x) - 2 * A.T @ A @ x), zeros(2, 1)))"
      ]
    },
    {
      "cell_type": "code",
      "execution_count": null,
      "metadata": {},
      "outputs": [],
      "source": [
        "Matrix([[3, 2], [1, 2]]).det()"
      ]
    },
    {
      "cell_type": "code",
      "execution_count": null,
      "metadata": {},
      "outputs": [],
      "source": [
        "linalg.det(np.array([[3, 2], [1, 2]]))"
      ]
    },
    {
      "cell_type": "code",
      "execution_count": null,
      "metadata": {},
      "outputs": [],
      "source": [
        "Matrix([[2, 3], [5, 7]]).inv()"
      ]
    },
    {
      "cell_type": "code",
      "execution_count": null,
      "metadata": {},
      "outputs": [],
      "source": [
        "linalg.inv(np.array([[2, 3], [5, 7]]))"
      ]
    },
    {
      "cell_type": "code",
      "execution_count": null,
      "metadata": {},
      "outputs": [],
      "source": [
        "A = Matrix([[3, 2], [1, 2]]); b = Matrix([8, 4])\n",
        "A.inv() @ b"
      ]
    },
    {
      "cell_type": "code",
      "execution_count": null,
      "metadata": {},
      "outputs": [],
      "source": [
        "A = np.array([[3, 2], [1, 2]]); b = np.array([8, 4])\n",
        "linalg.inv(A) @ b"
      ]
    },
    {
      "cell_type": "code",
      "execution_count": null,
      "metadata": {},
      "outputs": [],
      "source": [
        "Matrix([[4, 2, 8], [2, 1, 4]]).rref()[0]"
      ]
    },
    {
      "cell_type": "code",
      "execution_count": null,
      "metadata": {},
      "outputs": [],
      "source": [
        "A = Matrix([[2, 0, 2], [0, 2, -2], [2, 2, 0]])\n",
        "A.rank()"
      ]
    },
    {
      "cell_type": "code",
      "execution_count": null,
      "metadata": {},
      "outputs": [],
      "source": [
        "A = np.array([[2, 0, 2], [0, 2, -2], [2, 2, 0]])\n",
        "np.linalg.matrix_rank(A)"
      ]
    },
    {
      "cell_type": "markdown",
      "source": "# 18 ベクトル空間",
      "metadata": {}
    },
    {
      "cell_type": "code",
      "execution_count": null,
      "metadata": {},
      "outputs": [],
      "source": [
        "a1 = Matrix([3, 1]); a2 = Matrix([2, 2]); var('c1 c2')\n",
        "solve(c1 * a1 + c2 * a2, (c1, c2))"
      ]
    },
    {
      "cell_type": "code",
      "execution_count": null,
      "metadata": {},
      "outputs": [],
      "source": [
        "A = Matrix([[1, 0, 1], [1, 1, 0], [0, 1, -1]])\n",
        "A.columnspace()"
      ]
    },
    {
      "cell_type": "code",
      "execution_count": null,
      "metadata": {},
      "outputs": [],
      "source": [
        "A = Matrix([[1, 0, 1], [1, 1, 0], [0, 1, -1]])\n",
        "tmp = A.columnspace()\n",
        "basis = GramSchmidt(tmp, orthonormal=True); basis"
      ]
    },
    {
      "cell_type": "code",
      "execution_count": null,
      "metadata": {},
      "outputs": [],
      "source": [
        "Q = Matrix.hstack(*basis)\n",
        "Q.T @ Q"
      ]
    },
    {
      "cell_type": "code",
      "execution_count": null,
      "metadata": {},
      "outputs": [],
      "source": [
        "A = Matrix([[1, 2], [1, 2], [0, 0]]); B = Matrix([[1, 0], [1, 1], [0, 1]])\n",
        "Qa, Ra = A.QRdecomposition()\n",
        "Qb, Rb = B.QRdecomposition()\n",
        "display(Qa, Ra, A == Qa @ Ra, Qb, Rb, B == Qb @ Rb)"
      ]
    },
    {
      "cell_type": "code",
      "execution_count": null,
      "metadata": {},
      "outputs": [],
      "source": [
        "A = np.array([[1, 2], [1, 2], [0, 0]]); B = np.array([[1, 0], [1, 1], [0, 1]])\n",
        "Qa, Ra = linalg.qr(A)\n",
        "Qb, Rb = linalg.qr(B)\n",
        "Qa, Ra, np.allclose(A, Qa @ Ra), Qb, Rb, np.allclose(B, Qb @ Rb)"
      ]
    },
    {
      "cell_type": "code",
      "execution_count": null,
      "metadata": {},
      "outputs": [],
      "source": [
        "def qrd(A):\n",
        "    (m, n) = A.shape\n",
        "    u = [A[:, i].copy() for i in range(n)]; idx = []\n",
        "    for i in range(n):\n",
        "        for j in range(i): u[i] -= A[:, i].dot(u[j]) * u[j]\n",
        "        s = u[i].norm()\n",
        "        if not np.isclose(np.double(s), 0): u[i] /= s; idx.append(i)\n",
        "    Q = Matrix.hstack(*[u[i] for i in idx]) if len(idx) != 0 else eye(m)\n",
        "    return (Q, Q.T @ A)\n",
        "\n",
        "A = Matrix([[1, 2], [1, 2], [0, 0]]); B = Matrix([[1, 0], [1, 1], [0, 1]])\n",
        "qrd(A), qrd(B) # 動作確認"
      ]
    },
    {
      "cell_type": "code",
      "execution_count": null,
      "metadata": {},
      "outputs": [],
      "source": [
        "def qrdn(An):\n",
        "    A = An.astype(float) # 成分を浮動小数点数に変換する．\n",
        "    (m, n) = A.shape\n",
        "    u = [A[:, i].copy() for i in range(n)]; idx = []\n",
        "    for i in range(n):\n",
        "        for j in range(i): u[i] -= A[:, i].dot(u[j]) * u[j]\n",
        "        s = linalg.norm(u[i])\n",
        "        if not np.isclose(s, 0): u[i] /= s; idx.append(i)\n",
        "    Q = np.array([u[i] for i in idx]).T if len(idx) != 0 else np.eye(m)\n",
        "    return (Q, Q.T @ A)\n",
        "\n",
        "A = np.array([[1, 2], [1, 2], [0, 0]]); B = np.array([[1, 0], [1, 1], [0, 1]])\n",
        "qrdn(A), qrdn(B) # 動作確認"
      ]
    },
    {
      "cell_type": "code",
      "execution_count": null,
      "metadata": {},
      "outputs": [],
      "source": [
        "B = Matrix([[1, 0], [1, 1], [0, 1]])\n",
        "Q, R = qrd(B)                # QR分解\n",
        "(Q.T @ Q == eye(Q.shape[1]), # ①（厳密値を想定）\n",
        " R.is_upper,                 # ②（厳密値を想定）\n",
        " Q @ R == B)                 # ③（厳密値を想定）"
      ]
    },
    {
      "cell_type": "code",
      "execution_count": null,
      "metadata": {},
      "outputs": [],
      "source": [
        "B = np.array([[1, 0], [1, 1], [0, 1]])\n",
        "Q, R = qrdn(B)                             # QR分解\n",
        "(np.allclose(Q.T @ Q, np.eye(Q.shape[1])), # ①\n",
        " np.allclose(R, np.triu(R)),               # ②\n",
        " np.allclose(Q @ R, B))                    # ③"
      ]
    },
    {
      "cell_type": "code",
      "execution_count": null,
      "metadata": {},
      "outputs": [],
      "source": [
        "A = Matrix([[1, 0], [1, 1], [0, 1]])\n",
        "A.T.nullspace()"
      ]
    },
    {
      "cell_type": "code",
      "execution_count": null,
      "metadata": {},
      "outputs": [],
      "source": [
        "A = np.array([[1, 0], [1, 1], [0, 1]])\n",
        "linalg.null_space(A.T) # 正規直交基底"
      ]
    },
    {
      "cell_type": "code",
      "execution_count": null,
      "metadata": {},
      "outputs": [],
      "source": [
        "A = Matrix([[1, 0], [1, 1], [0, 1]])\n",
        "basis1 = A.QRdecomposition()[0]                         # 列空間\n",
        "basis2 = GramSchmidt(A.T.nullspace(), orthonormal=True) # 直交補空間\n",
        "Q = Matrix.hstack(basis1, *basis2)\n",
        "Q, Q.T @ Q == eye(3)"
      ]
    },
    {
      "cell_type": "code",
      "execution_count": null,
      "metadata": {},
      "outputs": [],
      "source": [
        "A = np.array([[1, 0], [1, 1], [0, 1]])\n",
        "basis1 = linalg.qr(A, mode='economic')[0] # 列空間\n",
        "basis2 = linalg.null_space(A.T)           # 直交補空間\n",
        "Q = np.hstack([basis1, basis2])\n",
        "Q, np.allclose(Q.T @ Q, np.eye(3))"
      ]
    },
    {
      "cell_type": "markdown",
      "source": "# 19 固有値と固有ベクトル",
      "metadata": {}
    },
    {
      "cell_type": "code",
      "execution_count": null,
      "metadata": {},
      "outputs": [],
      "source": [
        "A = Matrix([[5, 6, 3], [0, 9, 2], [0, 6, 8]])\n",
        "eigs = A.eigenvects()\n",
        "vals = [e[0] for e in eigs for _ in range(e[1])] # 固有値（順序不明）\n",
        "vecs = [v for e in eigs for v in e[2]]           # 固有ベクトル（非正規）\n",
        "vals, vecs"
      ]
    },
    {
      "cell_type": "code",
      "execution_count": null,
      "metadata": {},
      "outputs": [],
      "source": [
        "An = np.array([[5, 6, 3], [0, 9, 2], [0, 6, 8]])\n",
        "valsn, vecsn = linalg.eig(An)\n",
        "valsn, vecsn # 固有値（順序不明），固有ベクトル（正規）"
      ]
    },
    {
      "cell_type": "code",
      "execution_count": null,
      "metadata": {},
      "outputs": [],
      "source": [
        "V = Matrix.hstack(*vecs); A @ V == V @ diag(*vals)"
      ]
    },
    {
      "cell_type": "code",
      "execution_count": null,
      "metadata": {},
      "outputs": [],
      "source": [
        "np.allclose(An @ vecsn, vecsn @ np.diag(valsn))"
      ]
    },
    {
      "cell_type": "code",
      "execution_count": null,
      "metadata": {},
      "outputs": [],
      "source": [
        "B = Matrix([[6, 7, 0], [7, 2, 0], [0, 0, 8]])\n",
        "eigs = B.eigenvects()\n",
        "vals = [e[0] for e in eigs for _ in range(e[1])] # 絶対値の降順とは限らない．\n",
        "vecs = [v for e in eigs for v in e[2]]\n",
        "idx = np.argsort([-abs(N(x)) for x in vals])     # 近似値で比較する．\n",
        "vals = [vals[i] for i in idx]                    # 固有値（絶対値の降順）\n",
        "vecs = [vecs[i] for i in idx]                    # 固有ベクトルも並べ替える．\n",
        "vals                                             # 結果の確認"
      ]
    },
    {
      "cell_type": "code",
      "execution_count": null,
      "metadata": {},
      "outputs": [],
      "source": [
        "B = np.array([[6, 7, 0], [7, 2, 0], [0, 0, 8]])\n",
        "vals, vecs = np.linalg.eig(B)        # 絶対値の降順とは限らない．\n",
        "idx = np.argsort(-abs(vals))         # 絶対値の降順の位置\n",
        "vals, vecs = vals[idx], vecs[:, idx] # 絶対値の降順\n",
        "vals                                 # 結果の確認"
      ]
    },
    {
      "cell_type": "code",
      "execution_count": null,
      "metadata": {},
      "outputs": [],
      "source": [
        "A = Matrix([[5, 6, 3], [0, 9, 2], [0, 6, 8]]); n = A.shape[0]\n",
        "var('x'); solve((x * eye(n) - A).det(), x)"
      ]
    },
    {
      "cell_type": "code",
      "execution_count": null,
      "metadata": {},
      "outputs": [],
      "source": [
        "(5 * eye(n) - A).nullspace()"
      ]
    },
    {
      "cell_type": "code",
      "execution_count": null,
      "metadata": {},
      "outputs": [],
      "source": [
        "S = Matrix([[2, 2, -2], [2, 5, -4], [-2, -4, 5]])\n",
        "Q, L, V = S.singular_value_decomposition()\n",
        "Q, L, S == Q @ L @ Q.T == V @ L @ V.T"
      ]
    },
    {
      "cell_type": "code",
      "execution_count": null,
      "metadata": {},
      "outputs": [],
      "source": [
        "Sn = np.array([[2, 2, -2], [2, 5, -4], [-2, -4, 5]])\n",
        "Q, lambdas, tV = linalg.svd(Sn); L = np.diag(lambdas)\n",
        "Q, L, np.allclose(Sn, Q @ L @ Q.T), np.allclose(Sn, tV.T @ L @ tV)"
      ]
    },
    {
      "cell_type": "code",
      "execution_count": null,
      "metadata": {},
      "outputs": [],
      "source": [
        "S = Matrix([[2, 2, -2], [2, 5, -4], [-2, -4, 5]])\n",
        "eigs = S.eigenvects()\n",
        "vals = [e[0] for e in eigs for _ in range(e[1])] # ①-1\n",
        "vecs = [v for e in eigs for v in e[2]]           # ①-2\n",
        "tmp = GramSchmidt(vecs, orthonormal=True)        # ②\n",
        "Q = Matrix.hstack(*tmp)                          # ③\n",
        "L = diag(*vals)                                  # ④\n",
        "Q, L, np.allclose(np.double(S), np.double(Q @ L @ Q.T)) # 近似的な比較"
      ]
    },
    {
      "cell_type": "code",
      "execution_count": null,
      "metadata": {},
      "outputs": [],
      "source": [
        "Sn = np.array([[2, 2, -2], [2, 5, -4], [-2, -4, 5]])\n",
        "tmp = linalg.eig(Sn); vals = tmp[0]; vecs = tmp[1] # ①\n",
        "Q = linalg.qr(vecs)[0]                             # ②, ③\n",
        "L = np.diag(vals)                                  # ④\n",
        "Q, L, np.allclose(Sn, Q @ L @ Q.T)"
      ]
    },
    {
      "cell_type": "code",
      "execution_count": null,
      "metadata": {},
      "outputs": [],
      "source": [
        "Matrix([[4, 2], [2, 1]]).is_positive_semidefinite"
      ]
    },
    {
      "cell_type": "code",
      "execution_count": null,
      "metadata": {},
      "outputs": [],
      "source": [
        "A = Matrix([[4, 2], [2, 1]])\n",
        "all(e >= 0 for e in A.eigenvals(multiple=True))"
      ]
    },
    {
      "cell_type": "code",
      "execution_count": null,
      "metadata": {},
      "outputs": [],
      "source": [
        "A = np.array([[4, 2], [2, 1]])\n",
        "np.all(linalg.eigvals(A) >= 0)"
      ]
    },
    {
      "cell_type": "code",
      "execution_count": null,
      "metadata": {},
      "outputs": [],
      "source": [
        "x1 = [1, 3, 6, 10]; y = [7, 1, 6, 14]; X = Matrix([x1, y]).T\n",
        "n = X.shape[0]; M = ones(n, n) / sym.S(n)\n",
        "A = X - M @ X\n",
        "S = A.T @ A; display(S)\n",
        "eigs = S.eigenvects()\n",
        "vals = [re(e[0]) for e in eigs for _ in range(e[1])] # 固有値\n",
        "vecs = [re(v) for e in eigs for v in e[2]]           # 固有ベクトル\n",
        "N(vecs[np.argmax(vals)].normalized()) # 最大固有値に対応する固有ベクトル\n",
        "# 最大固有値の位置の探索と，固有ベクトルの正規化が必要"
      ]
    },
    {
      "cell_type": "code",
      "execution_count": null,
      "metadata": {},
      "outputs": [],
      "source": [
        "x1 = [1, 3, 6, 10]; y = [7, 1, 6, 14]; Xn = np.array([x1, y]).T\n",
        "n = Xn.shape[0]; Mn = np.ones([n, n]) / n\n",
        "An = Xn - Mn @ Xn\n",
        "Sn = An.T @ An; print(Sn)\n",
        "vals, vecs = linalg.eig(Sn)\n",
        "vecs[:, np.argmax(vals)] # 最大固有値に対応する固有ベクトル\n",
        "# 最大固有値の位置の探索が必要"
      ]
    },
    {
      "cell_type": "code",
      "execution_count": null,
      "metadata": {},
      "outputs": [],
      "source": [
        "_, L, V = A.singular_value_decomposition() # 特異値分解\n",
        "s = re(L.diagonal())  # 特異値\n",
        "idx = np.argmax(s)    # 最大特異値の位置（SymPyでは0とは限らない）\n",
        "display(N(V[:, idx])) # 対応するVの列ベクトル（求めるもの）\n",
        "s2 = np.array(sorted([N(x)**2 for x in s], reverse=True)) # 特異値の2乗（降順）\n",
        "np.cumsum(s2) / sum(s2)                                   # 累積寄与率（後述）"
      ]
    },
    {
      "cell_type": "code",
      "execution_count": null,
      "metadata": {},
      "outputs": [],
      "source": [
        "_, s, tV = linalg.svd(An) # 特異値分解\n",
        "print(tV.T[:, 0])         # Vの第1列（求めるもの）\n",
        "s2 = s**2                 # 特異値の2乗\n",
        "np.cumsum(s2) / sum(s2)   # 累積寄与率（後述）"
      ]
    },
    {
      "cell_type": "code",
      "execution_count": null,
      "metadata": {},
      "outputs": [],
      "source": [
        "X = np.array([[1, 3, 6, 10], [7, 1, 6, 14]]).T\n",
        "\n",
        "from statsmodels.multivariate import pca                # statsmodelsを使う場合\n",
        "pca1 = pca.PCA(X, standardize=False, normalize=False)\n",
        "P = pca1.scores; print(P)      # 主成分スコア\n",
        "V = pca1.loadings; print(V)    # 主成分\n",
        "print(V[:, 0])                 # 第1主成分（求めるもの）\n",
        "s2 = pca1.eigenvals            # 特異値の2乗\n",
        "print(np.cumsum(s2) / sum(s2)) # 累積寄与率（後述）\n",
        "\n",
        "from sklearn import decomposition                      # Scikit-learnを使う場合\n",
        "pca2 = decomposition.PCA()\n",
        "P = pca2.fit_transform(X); print(P) # 主成分スコア\n",
        "tV = pca2.components_; print(tV.T)  # 主成分\n",
        "print(tV[0])                        # 第1主成分（求めるもの）\n",
        "s2 = pca2.singular_values_**2       # 特異値の2乗\n",
        "print(np.cumsum(s2) / sum(s2))      # 累積寄与率（後述）"
      ]
    },
    {
      "cell_type": "markdown",
      "source": "# 20 特異値分解と擬似逆行列",
      "metadata": {}
    },
    {
      "cell_type": "code",
      "execution_count": null,
      "metadata": {},
      "outputs": [],
      "source": [
        "A = Matrix([[1, 0], [1, 1], [0, 1]])\n",
        "Ur, Sr, Vr = A.singular_value_decomposition()\n",
        "Ur, Sr, Vr.T, A == simplify(Ur @ Sr @ Vr.T)"
      ]
    },
    {
      "cell_type": "code",
      "execution_count": null,
      "metadata": {},
      "outputs": [],
      "source": [
        "An = np.array([[1, 0], [1, 1], [0, 1]])\n",
        "U, s, tV = linalg.svd(An)\n",
        "S = np.zeros(An.shape); r = len(s); S[:r, :r] = np.diag(s)\n",
        "U, S, tV, np.allclose(An, U @ S @ tV)"
      ]
    },
    {
      "cell_type": "code",
      "execution_count": null,
      "metadata": {},
      "outputs": [],
      "source": [
        "from skimage import io\n",
        "# Binderでは，小さい画像を使う．\n",
        "url = 'https://github.com/taroyabuki/comath/raw/main/images/boy-small.jpg'\n",
        "A = io.imread(url, as_gray=True)                  # 画像の行列への変換\n",
        "U, s, tV = linalg.svd(A)                          # 特異値分解\n",
        "k = 17 # Binderでは，数値の個数を約20%にする．\n",
        "Ak = U[:, :k] @ np.diag(s[:k]) @ tV[:k, :]        # 近似\n",
        "B = (Ak - np.min(Ak)) / (np.max(Ak) - np.min(Ak)) # 数値を0～1にする．\n",
        "plt.figure(figsize=(10, 5))\n",
        "plt.subplot(1, 2, 1); plt.imshow(A, cmap='gray')\n",
        "plt.subplot(1, 2, 2); plt.imshow(B, cmap='gray')\n",
        "plt.show();"
      ]
    },
    {
      "cell_type": "code",
      "execution_count": null,
      "metadata": {},
      "outputs": [],
      "source": [
        "def exbasis(A): # tAの零空間（Aの列空間と直交）の基底を列ベクトルとする行列\n",
        "    return Matrix.hstack(*GramSchmidt(A.T.nullspace(), orthonormal=True))\n",
        "def svd2(A, tol=10e-10):\n",
        "    m, n = A.shape; G = A.T @ A; eigs = G.eigenvects()               # ①\n",
        "    vals = [re(e[0]) for e in eigs for _ in range(e[1])]             # ②-1a\n",
        "    vecs = [re(v) for e in eigs for v in e[2]]                       # ②-1b\n",
        "    idx = np.argsort([-abs(N(x)) for x in vals])                     # ②-2a\n",
        "    vals, vecs = [vals[i] for i in idx], [vecs[i] for i in idx]      # ②-2b\n",
        "    s = [sqrt(x) for x in vals if abs(N(x)) > tol]; r = len(s)       # ③\n",
        "    if r != 0:\n",
        "        Sr = diag(*s)                                                # ④\n",
        "        Vr = Matrix.hstack(*GramSchmidt(vecs[:r], orthonormal=True)) # ⑤\n",
        "        Ur = A @ Vr @ diag(*[1 / x for x in s])                      # ⑥\n",
        "        S = 0 * A; S[:r, :r] = Sr                                    # ⑦\n",
        "        V = Vr if n == r else Vr.row_join(exbasis(Vr))               # ⑧\n",
        "        U = Ur if m == r else Ur.row_join(exbasis(Ur))               # ⑨\n",
        "    else:\n",
        "        S = 0 * A; V = eye(n); U = eye(m)\n",
        "        Sr = Matrix([[0]]); Vr = V[:, 0]; Ur = U[: ,0]\n",
        "    return Ur, Sr, Vr, U, S, V\n",
        "\n",
        "A = Matrix([[1, 0], [1, 1], [0, 1]]); svd2(A) # 動作確認"
      ]
    },
    {
      "cell_type": "code",
      "execution_count": null,
      "metadata": {},
      "outputs": [],
      "source": [
        "def svd2n(A, tol=10e-10):\n",
        "    m, n = A.shape; G = A.T @ A                                   # ①\n",
        "    vals, vecs = linalg.eig(G); vals, vecs = vals.real, vecs.real # ②-1\n",
        "    idx = np.argsort(-abs(vals))                                  # ②-2a\n",
        "    vals, vecs = vals[idx], vecs[:, idx]                          # ②-2b\n",
        "    s = [np.sqrt(x) for x in vals if x > tol]; r = len(s)         # ③\n",
        "    Sr = np.diag(s)                                               # ④\n",
        "    V = linalg.qr(vecs[:, :r])[0]; Vr = V[:, :r]                  # ⑤, ⑧\n",
        "    Ur = A @ Vr / s                                               # ⑥\n",
        "    S = 0.0 * A; S[:r, :r] = Sr                                   # ⑦\n",
        "    if (r != 0): U = np.hstack([Ur, linalg.null_space(Ur.T)])     # ⑨\n",
        "    else: U = np.eye(m)\n",
        "    return Ur, Sr, Vr, U, S, V\n",
        "\n",
        "A = np.array([[1, 0], [1, 1], [0, 1]]); svd2n(A) # 動作確認"
      ]
    },
    {
      "cell_type": "code",
      "execution_count": null,
      "metadata": {},
      "outputs": [],
      "source": [
        "isOrtho = lambda A: np.allclose(\n",
        "    np.double(A.T) @ np.double(A), np.eye(A.shape[1]))\n",
        "isSquare = lambda A: A.shape[0] == A.shape[1]\n",
        "isDiagDesc = lambda A: (\n",
        "    list(A.diagonal()) == sorted(abs(A.diagonal()), reverse=True))\n",
        "\n",
        "A = Matrix([[1., 0], [1, 1], [0, 1]])\n",
        "Ur, Sr, Vr, U, S, V = svd2(A)                          # 特異値分解\n",
        "[isOrtho(Ur), isOrtho(Vr), isOrtho(U), isOrtho(V),     # ①\n",
        " isSquare(U), isSquare(V),                             # ②\n",
        " isDiagDesc(Sr), isDiagDesc(S),                        # ③\n",
        " np.allclose(np.double(A), np.double(Ur @ Sr @ Vr.T)), # ④-1\n",
        " np.allclose(np.double(A), np.double(U @ S @ V.T))]    # ④-2"
      ]
    },
    {
      "cell_type": "code",
      "execution_count": null,
      "metadata": {},
      "outputs": [],
      "source": [
        "isOrthon = lambda A: np.allclose(A.T @ A, np.eye(A.shape[1]))\n",
        "isSquaren = lambda A: A.shape[0] == A.shape[1]\n",
        "isDiagDescn = lambda A: all(\n",
        "    A.diagonal() == sorted(abs(A.diagonal()), reverse=True))\n",
        "\n",
        "A = np.array([[1, 0], [1, 1], [0, 10]])\n",
        "Ur, Sr, Vr, U, S, V = svd2n(A)                         # 特異値分解\n",
        "[isOrthon(Ur), isOrthon(Vr), isOrthon(U), isOrthon(V), # ①\n",
        " isSquaren(U), isSquaren(V),                           # ②\n",
        " isDiagDescn(Sr), isDiagDescn(S),                      # ③\n",
        " np.allclose(np.double(A), np.double(Ur @ Sr @ Vr.T)), # ④-1\n",
        " np.allclose(np.double(A), np.double(U @ S @ V.T))]    # ④-2"
      ]
    },
    {
      "cell_type": "code",
      "execution_count": null,
      "metadata": {},
      "outputs": [],
      "source": [
        "A = Matrix([[1, 0], [1, 1], [0, 1]]); A.pinv()"
      ]
    },
    {
      "cell_type": "code",
      "execution_count": null,
      "metadata": {},
      "outputs": [],
      "source": [
        "A = np.array([[1, 0], [1, 1], [0, 1]]); linalg.pinv(A)"
      ]
    },
    {
      "cell_type": "code",
      "execution_count": null,
      "metadata": {},
      "outputs": [],
      "source": [
        "A = Matrix([[1, 0], [1, 1], [0, 1]]); b = Matrix([2, 0, 2])\n",
        "A.pinv() @ b"
      ]
    },
    {
      "cell_type": "code",
      "execution_count": null,
      "metadata": {},
      "outputs": [],
      "source": [
        "A = np.array([[1, 0], [1, 1], [0, 1]]); b = np.array([2, 0, 2])\n",
        "linalg.pinv(A) @ b"
      ]
    }
  ],
  "nbformat": 4,
  "nbformat_minor": 5,
  "metadata": {
    "kernelspec": {
      "name": "python3",
      "display_name": "Python 3"
    }
  }
}
