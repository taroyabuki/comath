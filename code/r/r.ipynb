{
  "cells": [
    {
      "cell_type": "markdown",
      "source": "[矢吹太朗『コンピュータでとく数学』（オーム社, 2024）](https://github.com/taroyabuki/comath)\n\n\n",
      "metadata": {}
    },
    {
      "cell_type": "markdown",
      "source": "# 1 実行環境",
      "metadata": {}
    },
    {
      "cell_type": "code",
      "execution_count": null,
      "metadata": {},
      "outputs": [],
      "source": [
        "install.packages(c(\"ellipse\", \"exactci\", \"matrixcalc\", \"mnormt\", \"pracma\"),\n",
        "                 repos = \"https://cran.rstudio.com/\") # reposは必須ではない．"
      ]
    },
    {
      "cell_type": "code",
      "execution_count": null,
      "metadata": {},
      "outputs": [],
      "source": [
        "data <- data.frame(x1 = c(1, 3, 6, 10), y = c(7, 1, 6, 14))\n",
        "model <- lm(y ~ x1, data)\n",
        "summary(model)"
      ]
    },
    {
      "cell_type": "markdown",
      "source": "# 2 数と変数",
      "metadata": {}
    },
    {
      "cell_type": "code",
      "execution_count": null,
      "metadata": {},
      "outputs": [],
      "source": [
        "2 * (-3)"
      ]
    },
    {
      "cell_type": "code",
      "execution_count": null,
      "metadata": {},
      "outputs": [],
      "source": [
        "(1 + 2) * 3"
      ]
    },
    {
      "cell_type": "code",
      "execution_count": null,
      "metadata": {},
      "outputs": [],
      "source": [
        "2^10"
      ]
    },
    {
      "cell_type": "code",
      "execution_count": null,
      "metadata": {},
      "outputs": [],
      "source": [
        "2**10"
      ]
    },
    {
      "cell_type": "code",
      "execution_count": null,
      "metadata": {},
      "outputs": [],
      "source": [
        "-2 < -1"
      ]
    },
    {
      "cell_type": "code",
      "execution_count": null,
      "metadata": {},
      "outputs": [],
      "source": [
        "2 + 2 == 5"
      ]
    },
    {
      "cell_type": "code",
      "execution_count": null,
      "metadata": {},
      "outputs": [],
      "source": [
        "if (7 < 5) 10 else 20"
      ]
    },
    {
      "cell_type": "code",
      "execution_count": null,
      "metadata": {},
      "outputs": [],
      "source": [
        "!(0 < 1)"
      ]
    },
    {
      "cell_type": "code",
      "execution_count": null,
      "metadata": {},
      "outputs": [],
      "source": [
        "(0 < 1) | (2 > 3)"
      ]
    },
    {
      "cell_type": "code",
      "execution_count": null,
      "metadata": {},
      "outputs": [],
      "source": [
        "(0 < 1) & (2 > 3)"
      ]
    },
    {
      "cell_type": "code",
      "execution_count": null,
      "metadata": {},
      "outputs": [],
      "source": [
        "x = 5; x == 5"
      ]
    },
    {
      "cell_type": "code",
      "execution_count": null,
      "metadata": {},
      "outputs": [],
      "source": [
        "a = 1 + 2\n",
        "b = 9\n",
        "a * (b + 1)"
      ]
    },
    {
      "cell_type": "code",
      "execution_count": null,
      "metadata": {},
      "outputs": [],
      "source": [
        "a = 1 + 2; b = 9; a * (b + 1)"
      ]
    },
    {
      "cell_type": "code",
      "execution_count": null,
      "metadata": {},
      "outputs": [],
      "source": [
        "(a <- 1 + 2)"
      ]
    },
    {
      "cell_type": "code",
      "execution_count": null,
      "metadata": {},
      "outputs": [],
      "source": [
        "x1 = 2; x2 = 3; x1 + x2"
      ]
    },
    {
      "cell_type": "code",
      "execution_count": null,
      "metadata": {},
      "outputs": [],
      "source": [
        "x = 1; y = x + 1; x = 2; y"
      ]
    },
    {
      "cell_type": "code",
      "execution_count": null,
      "metadata": {},
      "outputs": [],
      "source": [
        "f <- function(x) { 2 * x + 3 }\n",
        "f(5)"
      ]
    },
    {
      "cell_type": "code",
      "execution_count": null,
      "metadata": {},
      "outputs": [],
      "source": [
        "f <- function(x) { 1 / x }\n",
        "f(1)"
      ]
    },
    {
      "cell_type": "code",
      "execution_count": null,
      "metadata": {},
      "outputs": [],
      "source": [
        "(function(x) 2 * x + 3)(5)"
      ]
    },
    {
      "cell_type": "code",
      "execution_count": null,
      "metadata": {},
      "outputs": [],
      "source": [
        "f <- function(x, y) { x + y }\n",
        "f(2, 3)"
      ]
    },
    {
      "cell_type": "code",
      "execution_count": null,
      "metadata": {},
      "outputs": [],
      "source": [
        "g <- function(x) { x[1] + x[2] }\n",
        "x <- c(2, 3); g(x)"
      ]
    },
    {
      "cell_type": "code",
      "execution_count": null,
      "metadata": {},
      "outputs": [],
      "source": [
        "do.call(f, as.list(x))"
      ]
    },
    {
      "cell_type": "code",
      "execution_count": null,
      "metadata": {},
      "outputs": [],
      "source": [
        "g(c(2, 3))"
      ]
    },
    {
      "cell_type": "code",
      "execution_count": null,
      "metadata": {},
      "outputs": [],
      "source": [
        "0.1 + 0.2 == 0.3"
      ]
    },
    {
      "cell_type": "code",
      "execution_count": null,
      "metadata": {},
      "outputs": [],
      "source": [
        "all.equal(0.1 + 0.2, 0.3)"
      ]
    },
    {
      "cell_type": "code",
      "execution_count": null,
      "metadata": {},
      "outputs": [],
      "source": [
        "options(digits = 22) # 表示桁数の設定（デフォルトは7）\n",
        "9007199254740992 + 1\n",
        "options(digits = 7)"
      ]
    },
    {
      "cell_type": "markdown",
      "source": "# 3 データ構造",
      "metadata": {}
    },
    {
      "cell_type": "code",
      "execution_count": null,
      "metadata": {},
      "outputs": [],
      "source": [
        "v <- c(2, 3, 5); length(v)"
      ]
    },
    {
      "cell_type": "code",
      "execution_count": null,
      "metadata": {},
      "outputs": [],
      "source": [
        "v[3] <- 0.5; v"
      ]
    },
    {
      "cell_type": "code",
      "execution_count": null,
      "metadata": {},
      "outputs": [],
      "source": [
        "1:5"
      ]
    },
    {
      "cell_type": "code",
      "execution_count": null,
      "metadata": {},
      "outputs": [],
      "source": [
        "seq(0, 1, 0.1)"
      ]
    },
    {
      "cell_type": "code",
      "execution_count": null,
      "metadata": {},
      "outputs": [],
      "source": [
        "seq(0, 100, length.out = 5)"
      ]
    },
    {
      "cell_type": "code",
      "execution_count": null,
      "metadata": {},
      "outputs": [],
      "source": [
        "v <- c(2, 3)\n",
        "1.1 * v"
      ]
    },
    {
      "cell_type": "code",
      "execution_count": null,
      "metadata": {},
      "outputs": [],
      "source": [
        "u <- c(10, 20); v <- c(2, 3)\n",
        "u + v"
      ]
    },
    {
      "cell_type": "code",
      "execution_count": null,
      "metadata": {},
      "outputs": [],
      "source": [
        "v + 1"
      ]
    },
    {
      "cell_type": "code",
      "execution_count": null,
      "metadata": {},
      "outputs": [],
      "source": [
        "u <- c(10, 20); v <- c(2, 3)\n",
        "print(u %*% v)    # 結果は1行1列の行列（非推奨）\n",
        "print(sum(u * v)) # 結果は数"
      ]
    },
    {
      "cell_type": "code",
      "execution_count": null,
      "metadata": {},
      "outputs": [],
      "source": [
        "a <- c(2, 3, 4); b <- a; b[3] <- 0.5; a"
      ]
    },
    {
      "cell_type": "code",
      "execution_count": null,
      "metadata": {},
      "outputs": [],
      "source": [
        "v <- c(2, -1, 3, -2)\n",
        "v[v > 0] # []の中はベクトル化（後述）されていなければならない．"
      ]
    },
    {
      "cell_type": "code",
      "execution_count": null,
      "metadata": {},
      "outputs": [],
      "source": [
        "v <- c(2, -1, 3, -2)\n",
        "ifelse(v < 0, 0, 1)"
      ]
    },
    {
      "cell_type": "code",
      "execution_count": null,
      "metadata": {},
      "outputs": [],
      "source": [
        "v <- c(2, -1, 3, -2)\n",
        "n <- length(v)  # vのサイズ\n",
        "u <- rep(NA, n) # NAは「値がない」ということ．\n",
        "for (i in 1:n) { u[i] <- if (v[i] < 0) 0 else 1 }\n",
        "u"
      ]
    },
    {
      "cell_type": "code",
      "execution_count": null,
      "metadata": {},
      "outputs": [],
      "source": [
        "v <- c(2, -1, 3, -2)\n",
        "f <- function(x) { if (x < 0) 0 else 1 }\n",
        "sapply(v, f)"
      ]
    },
    {
      "cell_type": "code",
      "execution_count": null,
      "metadata": {},
      "outputs": [],
      "source": [
        "f <- Vectorize(function(x) { if (x < 0) 0 else 1 })\n",
        "f1 <- function(x) { ifelse(x < 0, 0, 1) } # ifelseはベクトル化されている．\n",
        "print(f(v)); print(f1(v))"
      ]
    },
    {
      "cell_type": "code",
      "execution_count": null,
      "metadata": {},
      "outputs": [],
      "source": [
        "u <- c(1, 7, 2, 9); v <- c(2, 3, 5, 7)\n",
        "print(ifelse(u < v, -1, 1)) # この例ではこのほうが簡潔．\n",
        "f <- function(a, b) {if (a < b) -1 else 1 }\n",
        "print(mapply(f, u, v))"
      ]
    },
    {
      "cell_type": "code",
      "execution_count": null,
      "metadata": {},
      "outputs": [],
      "source": [
        "x <- list(\"apple\" = \"りんご\", \"orange\" = \"みかん\")\n",
        "x[[\"orange\"]]"
      ]
    },
    {
      "cell_type": "code",
      "execution_count": null,
      "metadata": {},
      "outputs": [],
      "source": [
        "x[[\"grape\"]] <- \"ぶどう\"\n",
        "x[[\"grape\"]]"
      ]
    },
    {
      "cell_type": "code",
      "execution_count": null,
      "metadata": {},
      "outputs": [],
      "source": [
        "x[[\"apple\"]] <- NULL\n",
        "!is.null(x[[\"apple\"]])"
      ]
    },
    {
      "cell_type": "code",
      "execution_count": null,
      "metadata": {},
      "outputs": [],
      "source": [
        "(df <- data.frame(name = c(\"A\", \"B\", \"C\"),\n",
        "                  english = c(60, 90, 70),\n",
        "                  math = c(70, 80, 90),\n",
        "                  gender = c(\"f\", \"m\", \"m\")))"
      ]
    },
    {
      "cell_type": "code",
      "execution_count": null,
      "metadata": {},
      "outputs": [],
      "source": [
        "(df <- rbind(data.frame(name = \"A\", english = 60, math = 70, gender = \"f\"),\n",
        "             data.frame(name = \"B\", english = 90, math = 80, gender = \"m\"),\n",
        "             data.frame(name = \"C\", english = 70, math = 90, gender = \"m\")))"
      ]
    },
    {
      "cell_type": "code",
      "execution_count": null,
      "metadata": {},
      "outputs": [],
      "source": [
        "df[, c(\"english\", \"math\")]"
      ]
    },
    {
      "cell_type": "code",
      "execution_count": null,
      "metadata": {},
      "outputs": [],
      "source": [
        "df$\"english\""
      ]
    },
    {
      "cell_type": "code",
      "execution_count": null,
      "metadata": {},
      "outputs": [],
      "source": [
        "df$english"
      ]
    },
    {
      "cell_type": "code",
      "execution_count": null,
      "metadata": {},
      "outputs": [],
      "source": [
        "(m <- as.matrix(df[, c(2, 3)]))"
      ]
    },
    {
      "cell_type": "markdown",
      "source": "# 4 可視化と方程式",
      "metadata": {}
    },
    {
      "cell_type": "code",
      "execution_count": null,
      "metadata": {},
      "outputs": [],
      "source": [
        "curve(x^2 + 2 * x - 4, -5, 3)"
      ]
    },
    {
      "cell_type": "code",
      "execution_count": null,
      "metadata": {},
      "outputs": [],
      "source": [
        "x <- seq(-5, 3, length.out = 101)\n",
        "y <- x^2 + 2 * x - 4\n",
        "plot(x, y, \"l\")"
      ]
    },
    {
      "cell_type": "code",
      "execution_count": null,
      "metadata": {},
      "outputs": [],
      "source": [
        "par(mfrow = c(1, 3))\n",
        "curve(sin(102 * x), 0, 2*pi, main = \"n = 101\")\n",
        "curve(sin(102 * x), 0, 2*pi, main = \"n = 102\", n = 102)\n",
        "curve(sin(102 * x), 0, 2*pi, main = \"n = 200\", n = 200)\n",
        "par(mfrow = c(1, 1))"
      ]
    },
    {
      "cell_type": "code",
      "execution_count": null,
      "metadata": {},
      "outputs": [],
      "source": [
        "data <- expand.grid(x = seq(-1, 1, 0.1), y = seq(-1, 1, 0.1))\n",
        "data$z <- data$x^2 + data$y^2\n",
        "lattice::wireframe(z ~ x + y, data)"
      ]
    },
    {
      "cell_type": "code",
      "execution_count": null,
      "metadata": {},
      "outputs": [],
      "source": [
        "x <- seq(-1, 1, length.out = 100); y <- seq(-1, 1, length.out = 100)\n",
        "z <- outer(x, y, function(x, y) x^2 + y^2)\n",
        "contour(x, y, z)"
      ]
    },
    {
      "cell_type": "code",
      "execution_count": null,
      "metadata": {},
      "outputs": [],
      "source": [
        "f <- function(x) { 2^x + sin(x) }\n",
        "uniroot(f, c(-2, 0))"
      ]
    },
    {
      "cell_type": "markdown",
      "source": "# 5 論理式\n\n\n",
      "metadata": {}
    },
    {
      "cell_type": "markdown",
      "source": "# 6 1次元のデータ",
      "metadata": {}
    },
    {
      "cell_type": "code",
      "execution_count": null,
      "metadata": {},
      "outputs": [],
      "source": [
        "a <- c(36, 43, 53, 55, 56, 56, 57, 60, 61, 73)\n",
        "b <- c(34, 39, 39, 49, 50, 52, 52, 55, 83, 97)\n",
        "hist(a)"
      ]
    },
    {
      "cell_type": "code",
      "execution_count": null,
      "metadata": {},
      "outputs": [],
      "source": [
        "hist(a, seq(20, 80, 20))$counts"
      ]
    },
    {
      "cell_type": "code",
      "execution_count": null,
      "metadata": {},
      "outputs": [],
      "source": [
        "x <- c(7, 3, 1, 3, 4, 7, 7, 7, 10, 3)\n",
        "(f <- table(x))"
      ]
    },
    {
      "cell_type": "code",
      "execution_count": null,
      "metadata": {},
      "outputs": [],
      "source": [
        "boxplot(a, b, names = c(\"A\", \"B\"))"
      ]
    },
    {
      "cell_type": "code",
      "execution_count": null,
      "metadata": {},
      "outputs": [],
      "source": [
        "a <- c(36, 43, 53, 55, 56, 56, 57, 60, 61, 73)\n",
        "mean(a)"
      ]
    },
    {
      "cell_type": "code",
      "execution_count": null,
      "metadata": {},
      "outputs": [],
      "source": [
        "b <- c(34, 39, 39, 49, 50, 52, 52, 55, 83, 97)\n",
        "sum(b) / length(b)"
      ]
    },
    {
      "cell_type": "code",
      "execution_count": null,
      "metadata": {},
      "outputs": [],
      "source": [
        "mean(a - mean(a))"
      ]
    },
    {
      "cell_type": "code",
      "execution_count": null,
      "metadata": {},
      "outputs": [],
      "source": [
        "var(a)"
      ]
    },
    {
      "cell_type": "code",
      "execution_count": null,
      "metadata": {},
      "outputs": [],
      "source": [
        "sum((b - mean(b))^2) / (length(b) - 1)"
      ]
    },
    {
      "cell_type": "code",
      "execution_count": null,
      "metadata": {},
      "outputs": [],
      "source": [
        "(z <- scale(a))"
      ]
    },
    {
      "cell_type": "code",
      "execution_count": null,
      "metadata": {},
      "outputs": [],
      "source": [
        "c(mean(z), sd(z))"
      ]
    },
    {
      "cell_type": "code",
      "execution_count": null,
      "metadata": {},
      "outputs": [],
      "source": [
        "(a - mean(a)) / sd(a)"
      ]
    },
    {
      "cell_type": "code",
      "execution_count": null,
      "metadata": {},
      "outputs": [],
      "source": [
        "sd(a) * z + mean(a)"
      ]
    },
    {
      "cell_type": "code",
      "execution_count": null,
      "metadata": {},
      "outputs": [],
      "source": [
        "10 * z + 50"
      ]
    },
    {
      "cell_type": "markdown",
      "source": "# 7 2次元のデータ",
      "metadata": {}
    },
    {
      "cell_type": "code",
      "execution_count": null,
      "metadata": {},
      "outputs": [],
      "source": [
        "x <- c(35, 45, 55, 65, 75); y <- c(114, 124, 143, 158, 166)\n",
        "plot(x, y)"
      ]
    },
    {
      "cell_type": "code",
      "execution_count": null,
      "metadata": {},
      "outputs": [],
      "source": [
        "x <- c(35, 45, 55, 65, 75); y <- c(114, 124, 143, 158, 166)\n",
        "cov(x, y)"
      ]
    },
    {
      "cell_type": "code",
      "execution_count": null,
      "metadata": {},
      "outputs": [],
      "source": [
        "cov(data.frame(x, y))"
      ]
    },
    {
      "cell_type": "code",
      "execution_count": null,
      "metadata": {},
      "outputs": [],
      "source": [
        "sum((x - mean(x)) * (y - mean(y))) / (length(x) - 1)"
      ]
    },
    {
      "cell_type": "code",
      "execution_count": null,
      "metadata": {},
      "outputs": [],
      "source": [
        "cor(x, y)"
      ]
    },
    {
      "cell_type": "code",
      "execution_count": null,
      "metadata": {},
      "outputs": [],
      "source": [
        "x <- c(35, 45, 55, 65, 75); y <- c(114, 124, 143, 158, 166)\n",
        "data <- data.frame(x, y)\n",
        "(model <- lm(y ~ x, data))"
      ]
    },
    {
      "cell_type": "code",
      "execution_count": null,
      "metadata": {},
      "outputs": [],
      "source": [
        "predict(model, list(x = 40))"
      ]
    },
    {
      "cell_type": "code",
      "execution_count": null,
      "metadata": {},
      "outputs": [],
      "source": [
        "plot(data); abline(model)"
      ]
    },
    {
      "cell_type": "code",
      "execution_count": null,
      "metadata": {},
      "outputs": [],
      "source": [
        "a <- cov(x, y) / var(x); b <- mean(y) - a * mean(x)\n",
        "c(a, b)"
      ]
    },
    {
      "cell_type": "code",
      "execution_count": null,
      "metadata": {},
      "outputs": [],
      "source": [
        "print(cor(anscombe$x1, anscombe$y1))\n",
        "print(model <- lm(y1 ~ x1, anscombe))\n",
        "plot(anscombe$x1, anscombe$y1); abline(model)"
      ]
    },
    {
      "cell_type": "markdown",
      "source": "# 8 確率変数と確率分布",
      "metadata": {}
    },
    {
      "cell_type": "code",
      "execution_count": null,
      "metadata": {},
      "outputs": [],
      "source": [
        "x <- 1:6\n",
        "data <- sample(x, size = 1000, replace = TRUE)\n",
        "hist(data) # 結果は割愛"
      ]
    },
    {
      "cell_type": "code",
      "execution_count": null,
      "metadata": {},
      "outputs": [],
      "source": [
        "y <- rep(1 / 6, 6) # 確率関数の値\n",
        "hist(data, breaks = seq(0.5, 6.5), freq = FALSE)\n",
        "points(x, y)"
      ]
    },
    {
      "cell_type": "code",
      "execution_count": null,
      "metadata": {},
      "outputs": [],
      "source": [
        "data <- rbinom(1000, 1, 3 / 10)\n",
        "table(data)"
      ]
    },
    {
      "cell_type": "code",
      "execution_count": null,
      "metadata": {},
      "outputs": [],
      "source": [
        "dbinom(3, 10, 3 / 10)"
      ]
    },
    {
      "cell_type": "code",
      "execution_count": null,
      "metadata": {},
      "outputs": [],
      "source": [
        "n <- 10; p <- 3 / 10\n",
        "data <- rbinom(1000, n, p)\n",
        "hist(data) # 結果は割愛"
      ]
    },
    {
      "cell_type": "code",
      "execution_count": null,
      "metadata": {},
      "outputs": [],
      "source": [
        "x <- 0:n; y <- dbinom(x, n, p)\n",
        "hist(data, breaks=seq(-0.5, n + 0.5), freq=FALSE)\n",
        "points(x, y)"
      ]
    },
    {
      "cell_type": "code",
      "execution_count": null,
      "metadata": {},
      "outputs": [],
      "source": [
        "pbinom(3, 10, 3 / 10)"
      ]
    },
    {
      "cell_type": "code",
      "execution_count": null,
      "metadata": {},
      "outputs": [],
      "source": [
        "sum(dbinom(0:3, 10, 3 / 10))"
      ]
    },
    {
      "cell_type": "code",
      "execution_count": null,
      "metadata": {},
      "outputs": [],
      "source": [
        "F <- function(x) { punif(x, 0, 360) }\n",
        "c(F(200), F(150), F(200) - F(150))"
      ]
    },
    {
      "cell_type": "code",
      "execution_count": null,
      "metadata": {},
      "outputs": [],
      "source": [
        "f <- function(x) { 1 / 360 }\n",
        "integrate(Vectorize(f), 150, 200)"
      ]
    },
    {
      "cell_type": "code",
      "execution_count": null,
      "metadata": {},
      "outputs": [],
      "source": [
        "D(expression(x / 360), \"x\")"
      ]
    },
    {
      "cell_type": "code",
      "execution_count": null,
      "metadata": {},
      "outputs": [],
      "source": [
        "data <- runif(1000, 0, 360)\n",
        "hist(data) # 結果は割愛"
      ]
    },
    {
      "cell_type": "code",
      "execution_count": null,
      "metadata": {},
      "outputs": [],
      "source": [
        "data <- runif(1000, 0, 360)\n",
        "hist(data, freq = FALSE)\n",
        "curve(dunif(x, 0, 360), add = TRUE)"
      ]
    },
    {
      "cell_type": "code",
      "execution_count": null,
      "metadata": {},
      "outputs": [],
      "source": [
        "pnorm(6 + 3 * 2, 6, 2) - pnorm(6 - 3 * 2, 6, 2)"
      ]
    },
    {
      "cell_type": "code",
      "execution_count": null,
      "metadata": {},
      "outputs": [],
      "source": [
        "f <- function(x) { dnorm(x, 6, 2) }\n",
        "integrate(Vectorize(f), 6 - 3 * 2, 6 + 3 * 2)"
      ]
    },
    {
      "cell_type": "code",
      "execution_count": null,
      "metadata": {},
      "outputs": [],
      "source": [
        "curve(dnorm(x, 0, 1), -6, 6)\n",
        "curve(dnorm(x, 2, 1), -6, 6, lty = 2, add = TRUE) # 破線"
      ]
    },
    {
      "cell_type": "code",
      "execution_count": null,
      "metadata": {},
      "outputs": [],
      "source": [
        "curve(dnorm(x, 0, 1), -6, 6)\n",
        "curve(dnorm(x, 0, 2), -6, 6, lty = 2, add = TRUE) # 破線"
      ]
    },
    {
      "cell_type": "code",
      "execution_count": null,
      "metadata": {},
      "outputs": [],
      "source": [
        "Xs <- c(0, 100, 1000, 10000); Ps <- c(0.9, 0.08, 0.015, 0.005)\n",
        "data <- sample(Xs, 1000, replace = TRUE, prob = Ps)\n",
        "table(data)"
      ]
    },
    {
      "cell_type": "code",
      "execution_count": null,
      "metadata": {},
      "outputs": [],
      "source": [
        "r <- function() {\n",
        "  y <- runif(1)\n",
        "  ifelse(y <= 1 / 2, -sqrt(1 - 2 * y), sqrt(-1 + 2 * y))\n",
        "}\n",
        "data <- replicate(1000, r())\n",
        "hist(data)"
      ]
    },
    {
      "cell_type": "code",
      "execution_count": null,
      "metadata": {},
      "outputs": [],
      "source": [
        "Xs <- c(0, 100, 1000, 10000); Ps <- c(0.9, 0.08, 0.015, 0.005)\n",
        "sum(Xs * Ps)"
      ]
    },
    {
      "cell_type": "code",
      "execution_count": null,
      "metadata": {},
      "outputs": [],
      "source": [
        "mean(sample(Xs, 500000, replace = TRUE, prob = Ps))"
      ]
    },
    {
      "cell_type": "code",
      "execution_count": null,
      "metadata": {},
      "outputs": [],
      "source": [
        "f <- function(x) { abs(x) }\n",
        "g <- function(x) { x * f(x) }\n",
        "integrate(Vectorize(g), -1, 1)"
      ]
    },
    {
      "cell_type": "code",
      "execution_count": null,
      "metadata": {},
      "outputs": [],
      "source": [
        "sum((Xs - sum(Xs * Ps))^2 * Ps)"
      ]
    },
    {
      "cell_type": "code",
      "execution_count": null,
      "metadata": {},
      "outputs": [],
      "source": [
        "f <- function(x) { abs(x) }\n",
        "g <- function(x) { x * f(x) }\n",
        "u <- integrate(Vectorize(g), -1, 1)$value # Xの平均\n",
        "h <- function(x) { (x - u)^2 * f(x) }\n",
        "integrate(Vectorize(h), -1, 1)"
      ]
    },
    {
      "cell_type": "markdown",
      "source": "# 9 多次元の確率分布",
      "metadata": {}
    },
    {
      "cell_type": "code",
      "execution_count": null,
      "metadata": {},
      "outputs": [],
      "source": [
        "n <- 15; p <- 4 / 10; mu <- n * p; sigma <- sqrt(n * p * (1 - p))\n",
        "plot(0:n, dbinom(0:n, n, p))\n",
        "curve(dnorm(x, mu, sigma), add = TRUE)"
      ]
    },
    {
      "cell_type": "code",
      "execution_count": null,
      "metadata": {},
      "outputs": [],
      "source": [
        "data <- replicate(10000, sum(runif(12)) - 6)\n",
        "hist(data, freq = FALSE)\n",
        "curve(dnorm(x), add = TRUE)"
      ]
    },
    {
      "cell_type": "code",
      "execution_count": null,
      "metadata": {},
      "outputs": [],
      "source": [
        "mu = c(3, 6); Sigma = rbind(c(5, 7), c(7, 13))\n",
        "Y1 <- seq(-8, 14, by = 0.1); Y2 <- seq(-5, 17, by = 0.1)\n",
        "data <- expand.grid(Y1 = Y1, Y2 = Y2)\n",
        "data$z = mnormt::dmnorm(data, mu, Sigma)\n",
        "lattice::wireframe(z ~ Y1 + Y2, data)"
      ]
    },
    {
      "cell_type": "code",
      "execution_count": null,
      "metadata": {},
      "outputs": [],
      "source": [
        "contour(Y1, Y2, matrix(data$z, nrow = length(Y1)), xlab = 'Y1', ylab = 'Y2')"
      ]
    },
    {
      "cell_type": "markdown",
      "source": "# 10 推測統計",
      "metadata": {}
    },
    {
      "cell_type": "code",
      "execution_count": null,
      "metadata": {},
      "outputs": [],
      "source": [
        "mu <- 2; sigma <- 3;\n",
        "data1 <- replicate(10000, mean(rnorm(5, mu, sigma)))\n",
        "data2 <- replicate(10000, mean(rnorm(50, mu, sigma)))\n",
        "rbind(c(mean(data1), var(data1)), c(mean(data2), var(data2)))"
      ]
    },
    {
      "cell_type": "code",
      "execution_count": null,
      "metadata": {},
      "outputs": [],
      "source": [
        "xlim <- c(min(c(data1, data2)), max(c(data1, data2))) # 横軸を合わせる．\n",
        "par(mfrow = c(1, 2))\n",
        "hist(data1, xlim = xlim); hist(data2, xlim = xlim)\n",
        "par(mfrow = c(1, 1))"
      ]
    },
    {
      "cell_type": "code",
      "execution_count": null,
      "metadata": {},
      "outputs": [],
      "source": [
        "mu <- 2; sigma <- 3;\n",
        "data1 <- replicate(10000, var(rnorm(5, mu, sigma)))\n",
        "data2 <- replicate(10000, var(rnorm(50, mu, sigma)))\n",
        "rbind(c(mean(data1), var(data1)), c(mean(data2), var(data2)))"
      ]
    },
    {
      "cell_type": "code",
      "execution_count": null,
      "metadata": {},
      "outputs": [],
      "source": [
        "xlim <- c(min(c(data1, data2)), max(c(data1, data2))) # 横軸を合わせる．\n",
        "par(mfrow = c(1, 2))\n",
        "hist(data1, xlim = xlim); hist(data2, xlim = xlim)\n",
        "par(mfrow = c(1, 1))"
      ]
    },
    {
      "cell_type": "code",
      "execution_count": null,
      "metadata": {},
      "outputs": [],
      "source": [
        "n <- 4; mu <- 5; sigma <- 7\n",
        "f <- function(x) { (n - 1) * var(x) / sigma^2 }\n",
        "data <- replicate(10000, f(rnorm(n, mu, sigma)))\n",
        "hist(data, freq = FALSE)\n",
        "curve(dchisq(x, n - 1), add = TRUE)"
      ]
    },
    {
      "cell_type": "code",
      "execution_count": null,
      "metadata": {},
      "outputs": [],
      "source": [
        "n <- 4; mu <- 5; sigma <- 7\n",
        "t <- function(x) { (mean(x) - mu) / sqrt(var(x) / n) }\n",
        "data <- replicate(10000, t(rnorm(n, mu, sigma)))\n",
        "hist(data, freq = FALSE, xlim = c(-4, 4),\n",
        "     breaks = seq(1.1 * min(data), 1.1 * max(data), 0.5))\n",
        "curve(dt(x, n - 1), add = TRUE)"
      ]
    },
    {
      "cell_type": "code",
      "execution_count": null,
      "metadata": {},
      "outputs": [],
      "source": [
        "m <- 5; muX <- 2; sigmaX <- 3; n <- 7; muY <- 3; sigmaY <- 2;\n",
        "f <- function(x, y) { (var(x) / sigmaX^2) / (var(y) / sigmaY^2) }\n",
        "data <- replicate(10000, f(rnorm(m, muX, sigmaX), rnorm(n, muX, sigmaY)))\n",
        "hist(data, freq = FALSE, xlim = c(0, 5),\n",
        "     breaks = seq(0, 1.2 * max(data), 0.2))\n",
        "curve(df(x, m - 1, n - 1), add = TRUE)"
      ]
    },
    {
      "cell_type": "code",
      "execution_count": null,
      "metadata": {},
      "outputs": [],
      "source": [
        "n <- 15; p0 <- 4 / 10; exactci::binom.exact(2, n, p0, tsmethod = \"minlike\")\n",
        "# p-valueのところにP値が表示される．"
      ]
    },
    {
      "cell_type": "code",
      "execution_count": null,
      "metadata": {},
      "outputs": [],
      "source": [
        "exactci::binom.exact(2, n, p0, tsmethod = \"minlike\", alternative = \"less\")"
      ]
    },
    {
      "cell_type": "code",
      "execution_count": null,
      "metadata": {},
      "outputs": [],
      "source": [
        "n <- 15; p0 <- 4 / 10; mu0 <- n * p0; sigma0 <- sqrt(n * p0 * (1 - p0))\n",
        "2 * pnorm(2, mu0, sigma0)"
      ]
    },
    {
      "cell_type": "code",
      "execution_count": null,
      "metadata": {},
      "outputs": [],
      "source": [
        "alpha <- 5 / 100; qnorm(c(alpha / 2, 1 - alpha / 2), mu0, sigma0)"
      ]
    },
    {
      "cell_type": "code",
      "execution_count": null,
      "metadata": {},
      "outputs": [],
      "source": [
        "x <- c(24.2, 25.3, 26.2, 25.7, 24.4, 25.1, 25.6); mu0 <- 25\n",
        "t.test(x, mu = mu0)"
      ]
    },
    {
      "cell_type": "code",
      "execution_count": null,
      "metadata": {},
      "outputs": [],
      "source": [
        "m <- mean(x); s2 <- var(x); n <- length(x)\n",
        "t <- (m - mu0) / sqrt(s2 / n); c <- pt(t, n - 1)\n",
        "2 * min(c, 1 - c)"
      ]
    },
    {
      "cell_type": "code",
      "execution_count": null,
      "metadata": {},
      "outputs": [],
      "source": [
        "alpha <- 5 / 100\n",
        "qt(c(alpha / 2, 1 - alpha / 2), n - 1)"
      ]
    },
    {
      "cell_type": "code",
      "execution_count": null,
      "metadata": {},
      "outputs": [],
      "source": [
        "t.test(x)"
      ]
    },
    {
      "cell_type": "code",
      "execution_count": null,
      "metadata": {},
      "outputs": [],
      "source": [
        "x <- c(25, 24, 25, 26); y <- c(23, 18, 22, 28, 17, 25, 19, 16)\n",
        "t.test(x, y, alternative = \"greater\", var.equal = FALSE)"
      ]
    },
    {
      "cell_type": "code",
      "execution_count": null,
      "metadata": {},
      "outputs": [],
      "source": [
        "x <- c(25, 24, 25, 26); y <- c(23, 18, 22, 28, 17, 25, 19, 16)\n",
        "var.test(x, y)"
      ]
    },
    {
      "cell_type": "code",
      "execution_count": null,
      "metadata": {},
      "outputs": [],
      "source": [
        "f <- var(x) / var(y); m <- length(x); n <- length(y);\n",
        "c <- pf(f, m - 1, n - 1)\n",
        "c(f, 2 * min(c, 1 - c))"
      ]
    },
    {
      "cell_type": "code",
      "execution_count": null,
      "metadata": {},
      "outputs": [],
      "source": [
        "alpha = 0.05\n",
        "c(qf(c(alpha / 2, 1 - alpha / 2), m - 1, n - 1))"
      ]
    },
    {
      "cell_type": "markdown",
      "source": "# 11 線形回帰分析",
      "metadata": {}
    },
    {
      "cell_type": "code",
      "execution_count": null,
      "metadata": {},
      "outputs": [],
      "source": [
        "data <- data.frame(\n",
        "  x1 = c(1, 1, 2, 3), x2 = c(2, 3, 5, 7), y = c(3, 6, 3, 6))\n",
        "model <- lm(y ~ x1 + x2, data)\n",
        "summary(model)\n",
        "# Call:\n",
        "# lm(formula = y ~ x1 + x2, data = data.frame(x1, x2, y))\n",
        "#\n",
        "# Residuals:\n",
        "#          1          2          3          4\n",
        "#  2.776e-16  1.000e+00 -2.000e+00  1.000e+00\n",
        "#\n",
        "# Coefficients:\n",
        "#             Estimate Std. Error t value Pr(>|t|)\n",
        "# (Intercept)    3.000      3.000   1.000    0.500\n",
        "# x1            -4.000      7.681  -0.521    0.694\n",
        "# x2             2.000      3.317   0.603    0.655\n",
        "#\n",
        "# Residual standard error: 2.449 on 1 degrees of freedom\n",
        "# Multiple R-squared:  0.3333,  Adjusted R-squared:     -1\n",
        "# F-statistic:  0.25 on 2 and 1 DF,  p-value: 0.8165"
      ]
    },
    {
      "cell_type": "code",
      "execution_count": null,
      "metadata": {},
      "outputs": [],
      "source": [
        "predict(model, list(x1 = 1.5, x2 = 4))"
      ]
    },
    {
      "cell_type": "code",
      "execution_count": null,
      "metadata": {},
      "outputs": [],
      "source": [
        "x1 <- c(1, 3, 6, 10); y <- c(7, 1, 6, 14)\n",
        "L <- function(b) {\n",
        "  e <- y - (b[1] + b[2] * x1)\n",
        "  sum(e * e) # 内積\n",
        "}\n",
        "optim(c(0, 0), L)"
      ]
    },
    {
      "cell_type": "code",
      "execution_count": null,
      "metadata": {},
      "outputs": [],
      "source": [
        "data <- data.frame(\n",
        "  x1 = c(1, 1, 2, 3), x2 = c(2, 3, 5, 7), y = c(3, 6, 3, 6))\n",
        "X <- model.matrix(y ~ ., data); y <- data$y\n",
        "solve(t(X) %*% X) %*% t(X) %*% y"
      ]
    },
    {
      "cell_type": "code",
      "execution_count": null,
      "metadata": {},
      "outputs": [],
      "source": [
        "MASS::ginv(X) %*% y"
      ]
    },
    {
      "cell_type": "code",
      "execution_count": null,
      "metadata": {},
      "outputs": [],
      "source": [
        "data <- data.frame(\n",
        "  x1 = c(1, 1, 2, 3), x2 = c(2, 3, 5, 7), y = c(3, 6, 3, 6))\n",
        "model <- lm(y ~ x1 + x2, data)\n",
        "summary(model)$r.squared"
      ]
    },
    {
      "cell_type": "code",
      "execution_count": null,
      "metadata": {},
      "outputs": [],
      "source": [
        "summary(model)$adj.r.squared"
      ]
    },
    {
      "cell_type": "code",
      "execution_count": null,
      "metadata": {},
      "outputs": [],
      "source": [
        "data <- data.frame(x1 = c(1, 3, 6, 10), y = c(7, 1, 6, 14))\n",
        "y <- data$y; X <- model.matrix(y ~ x1, data)\n",
        "yh <- X %*% MASS::ginv(X) %*% y\n",
        "eh <- y - yh; fh <- yh - mean(y); g <- y - mean(y)\n",
        "(R2 <- 1 - sum(eh^2) / sum(g^2))"
      ]
    },
    {
      "cell_type": "code",
      "execution_count": null,
      "metadata": {},
      "outputs": [],
      "source": [
        "c(all.equal(mean(eh), 0),                             # 特徴1\n",
        "  all.equal(mean(yh), mean(y)),                       # 特徴2\n",
        "  all.equal(sum(g * g), sum(fh * fh) + sum(eh * eh)), # 特徴3\n",
        "  all.equal(R2, sum(fh * fh) / sum(g * g)),           # 特徴4\n",
        "  all.equal(R2, cor(y, yh[, 1])^2),                   # 特徴5\n",
        "  0 <= R2 & R2 <= 1,                                  # 特徴6\n",
        "  all.equal(cor(y, yh[, 1])^2, cor(y, data$x1)^2))    # 特徴7"
      ]
    },
    {
      "cell_type": "code",
      "execution_count": null,
      "metadata": {},
      "outputs": [],
      "source": [
        "data <- data.frame(\n",
        "  x1 = c(1, 1, 2, 3), x2 = c(2, 3, 5, 7), y = c(3, 6, 3, 6))\n",
        "model <- lm(y ~ x1 + x2, data)\n",
        "sigma(model)^2"
      ]
    },
    {
      "cell_type": "code",
      "execution_count": null,
      "metadata": {},
      "outputs": [],
      "source": [
        "data <- data.frame(\n",
        "  x1 = c(1, 1, 2, 3), x2 = c(2, 3, 5, 7), y = c(3, 6, 3, 6))\n",
        "model <- lm(y ~ ., data); n <- nrow(data); p <- ncol(data); r <- p - 1\n",
        "1 - pf(summary(model)$fstatistic, r, n - p)"
      ]
    },
    {
      "cell_type": "code",
      "execution_count": null,
      "metadata": {},
      "outputs": [],
      "source": [
        "data <- data.frame(x1 = c(35, 45, 55, 65, 75),\n",
        "                   y = c(114, 124, 143, 158, 166))\n",
        "model <- lm(y ~ x1, data); level <- 0.95\n",
        "(interval <- confint(model, level = level))"
      ]
    },
    {
      "cell_type": "code",
      "execution_count": null,
      "metadata": {},
      "outputs": [],
      "source": [
        "plot(ellipse::ellipse(model, level = level), type = \"l\")\n",
        "do.call(rect, as.list(interval))"
      ]
    },
    {
      "cell_type": "code",
      "execution_count": null,
      "metadata": {},
      "outputs": [],
      "source": [
        "data <- data.frame(x1 = c(35, 45, 55, 65, 75),\n",
        "                   y = c(114, 124, 143, 158, 166))\n",
        "model <- lm(y ~ x1, data)\n",
        "x1 <- seq(35, 75, length.out = 100)\n",
        "ci <- predict(model, data.frame(x1), level = 0.95, interval = \"confidence\")\n",
        "plot(data)\n",
        "lines(x1, ci[, \"fit\"], type='l')\n",
        "lines(x1, ci[, \"lwr\"], type='l')\n",
        "lines(x1, ci[, \"upr\"], type='l')"
      ]
    },
    {
      "cell_type": "code",
      "execution_count": null,
      "metadata": {},
      "outputs": [],
      "source": [
        "ci <- predict(model, data.frame(x1), level = 0.95, interval = \"prediction\")\n",
        "plot(data)\n",
        "lines(x1, ci[, \"fit\"], type='l')\n",
        "lines(x1, ci[, \"lwr\"], type='l')\n",
        "lines(x1, ci[, \"upr\"], type='l')"
      ]
    },
    {
      "cell_type": "code",
      "execution_count": null,
      "metadata": {},
      "outputs": [],
      "source": [
        "library(ggplot2)\n",
        "ggplot(data, aes(x1, y)) + geom_point() +\n",
        "  stat_smooth(formula = y ~ x, method = \"lm\", level = 0.95)"
      ]
    },
    {
      "cell_type": "markdown",
      "source": "# 12 関数の極限と連続性\n\n\n",
      "metadata": {}
    },
    {
      "cell_type": "markdown",
      "source": "# 13 微分\n\n\n",
      "metadata": {}
    },
    {
      "cell_type": "markdown",
      "source": "# 14 積分",
      "metadata": {}
    },
    {
      "cell_type": "code",
      "execution_count": null,
      "metadata": {},
      "outputs": [],
      "source": [
        "f <- function(x) { -x^2 + 4 * x + 1 }\n",
        "integrate(f, 1, 4)"
      ]
    },
    {
      "cell_type": "markdown",
      "source": "# 15 多変数関数の微分積分\n\n\n",
      "metadata": {}
    },
    {
      "cell_type": "markdown",
      "source": "# 16 ベクトル",
      "metadata": {}
    },
    {
      "cell_type": "code",
      "execution_count": null,
      "metadata": {},
      "outputs": [],
      "source": [
        "a <- c(1/10 + 2/10, 1/10 + 2/10 - 3/10); b <- c(3/10, 0)\n",
        "all.equal(a, b)"
      ]
    },
    {
      "cell_type": "code",
      "execution_count": null,
      "metadata": {},
      "outputs": [],
      "source": [
        "100 * c(1, 2) + 10 * c(3, 1)"
      ]
    },
    {
      "cell_type": "code",
      "execution_count": null,
      "metadata": {},
      "outputs": [],
      "source": [
        "a <- c(3, 4)\n",
        "norm(a, type = \"2\")"
      ]
    },
    {
      "cell_type": "code",
      "execution_count": null,
      "metadata": {},
      "outputs": [],
      "source": [
        "a = c(3, 4)\n",
        "a / norm(a, type = \"2\")"
      ]
    },
    {
      "cell_type": "code",
      "execution_count": null,
      "metadata": {},
      "outputs": [],
      "source": [
        "a <- c(1, 0); b <- c(1, 1)\n",
        "acos(sum(a * b) / (norm(a, type = \"2\") * norm(b, type = \"2\")))"
      ]
    },
    {
      "cell_type": "markdown",
      "source": "# 17 行列",
      "metadata": {}
    },
    {
      "cell_type": "code",
      "execution_count": null,
      "metadata": {},
      "outputs": [],
      "source": [
        "(A <- rbind(c(1, 2, 0), c(0, 3, 4)))"
      ]
    },
    {
      "cell_type": "code",
      "execution_count": null,
      "metadata": {},
      "outputs": [],
      "source": [
        "(A <- cbind(c(1, 0), c(2, 3), c(0, 4)))"
      ]
    },
    {
      "cell_type": "code",
      "execution_count": null,
      "metadata": {},
      "outputs": [],
      "source": [
        "x <- c(5, 7); diag(x, 2)\n",
        "# diag(x)は非推奨．x <- c(n)（xの要素が一つ）のときに，n行n列の単位行列になる．"
      ]
    },
    {
      "cell_type": "code",
      "execution_count": null,
      "metadata": {},
      "outputs": [],
      "source": [
        "isSymmetric(rbind(c(1, 2), c(2, 3)))"
      ]
    },
    {
      "cell_type": "code",
      "execution_count": null,
      "metadata": {},
      "outputs": [],
      "source": [
        "(A = rbind(c(11, 12, 13), c(21, 22, 23), c(31, 32, 33)))"
      ]
    },
    {
      "cell_type": "code",
      "execution_count": null,
      "metadata": {},
      "outputs": [],
      "source": [
        "A[1:2, 1:2, drop = FALSE] # ここでは「, drop = FALSE」は省略可．"
      ]
    },
    {
      "cell_type": "code",
      "execution_count": null,
      "metadata": {},
      "outputs": [],
      "source": [
        "A[, 3]"
      ]
    },
    {
      "cell_type": "code",
      "execution_count": null,
      "metadata": {},
      "outputs": [],
      "source": [
        "A[, 3, drop = FALSE]"
      ]
    },
    {
      "cell_type": "code",
      "execution_count": null,
      "metadata": {},
      "outputs": [],
      "source": [
        "A[2, ]"
      ]
    },
    {
      "cell_type": "code",
      "execution_count": null,
      "metadata": {},
      "outputs": [],
      "source": [
        "A[2, , drop = FALSE]"
      ]
    },
    {
      "cell_type": "code",
      "execution_count": null,
      "metadata": {},
      "outputs": [],
      "source": [
        "10 * rbind(c(2, 3), c(5, 7))"
      ]
    },
    {
      "cell_type": "code",
      "execution_count": null,
      "metadata": {},
      "outputs": [],
      "source": [
        "rbind(c(10, 20), c(30, 40)) + rbind(c(2, 3), c(4, 5))"
      ]
    },
    {
      "cell_type": "code",
      "execution_count": null,
      "metadata": {},
      "outputs": [],
      "source": [
        "A <- rbind(c(2, 3), c(5, 7)); B <- rbind(c(1, 2), c(3, 4))\n",
        "A %*% B"
      ]
    },
    {
      "cell_type": "code",
      "execution_count": null,
      "metadata": {},
      "outputs": [],
      "source": [
        "A <- rbind(c(2, 3), c(5, 7)); B <- rbind(c(1, 2, 3), c(4, 5, 6))\n",
        "p <- nrow(A); q <- ncol(A); r <- nrow(B); s <- ncol(B); zero <- matrix(0, p, s)\n",
        "S = A %*% B; S1 <- zero; S2 <- zero; S3 <- zero; S4 <- zero\n",
        "for (i in 1:p) for (j in 1:s) S1[i, j] = A[i, ] %*% B[, j]             # ①\n",
        "for (j in 1:q) S2 = S2 + A[, j, drop = FALSE] %*% B[j, , drop = FALSE] # ②\n",
        "for (j in 1:s) S3[, j] = A %*% B[, j]                                  # ③\n",
        "for (i in 1:p) S4[i, ] = A[i, ] %*% B                                  # ④\n",
        "c(all.equal(S, S1), all.equal(S, S2), all.equal(S, S3), all.equal(S, S4))\n",
        "# ①では1行1列の行列（A[i, ] %*% B[, j]）とスカラーを同一視する．"
      ]
    },
    {
      "cell_type": "code",
      "execution_count": null,
      "metadata": {},
      "outputs": [],
      "source": [
        "det(rbind(c(3, 2), c(1, 2)))"
      ]
    },
    {
      "cell_type": "code",
      "execution_count": null,
      "metadata": {},
      "outputs": [],
      "source": [
        "solve(rbind(c(2, 3), c(5, 7)))"
      ]
    },
    {
      "cell_type": "code",
      "execution_count": null,
      "metadata": {},
      "outputs": [],
      "source": [
        "A <- rbind(c(3, 2), c(1, 2)); b <- c(8, 4)\n",
        "solve(A) %*% b"
      ]
    },
    {
      "cell_type": "code",
      "execution_count": null,
      "metadata": {},
      "outputs": [],
      "source": [
        "pracma::rref(rbind(c(4, 2, 8), c(2, 1, 4)))"
      ]
    },
    {
      "cell_type": "code",
      "execution_count": null,
      "metadata": {},
      "outputs": [],
      "source": [
        "A <- rbind(c(2, 0, 2), c(0, 2, -2), c(2, 2, 0))\n",
        "Matrix::rankMatrix(A)"
      ]
    },
    {
      "cell_type": "markdown",
      "source": "# 18 ベクトル空間",
      "metadata": {}
    },
    {
      "cell_type": "code",
      "execution_count": null,
      "metadata": {},
      "outputs": [],
      "source": [
        "A <- cbind(c(1, 1, 0), c(2, 2, 0)); B <- cbind(c(1, 1, 0), c(0, 1, 1))\n",
        "qrA <- qr(A); Qa <- qr.Q(qrA); Ra <- qr.R(qrA)\n",
        "qrB <- qr(B); Qb <- qr.Q(qrB); Rb <- qr.R(qrB)\n",
        "print(Qa); print(Ra); all.equal(A[, qrA$pivot, drop = FALSE], Qa %*% Ra)\n",
        "print(Qb); print(Rb); all.equal(B[, qrB$pivot, drop = FALSE], Qb %*% Rb)"
      ]
    },
    {
      "cell_type": "code",
      "execution_count": null,
      "metadata": {},
      "outputs": [],
      "source": [
        "qrd <- function(A) {\n",
        "  m <- nrow(A); n <- ncol(A); u <- A; idx <- c()\n",
        "  for (i in 1:n) {\n",
        "    if (i > 1) for (j in 1:(i - 1)) {\n",
        "      u[, i] <- u[, i] - sum(A[, i] * u[, j]) * u[, j]\n",
        "    }\n",
        "    s <- norm(u[, i], type = \"2\")\n",
        "    if (!isTRUE(all.equal(s, 0))) { u[, i] <- u[, i] / s; idx <- c(idx, i) }\n",
        "  }\n",
        "  Q <- if (length(idx) != 0) u[, idx, drop = FALSE] else diag(m)\n",
        "  list(Q = Q, R = t(Q) %*% A)\n",
        "}\n",
        "\n",
        "A <- cbind(c(1, 1, 0), c(2, 2, 0)); B <- cbind(c(1, 1, 0), c(0, 1, 1))\n",
        "print(qrd(A)); print(qrd(B)) # 動作確認"
      ]
    },
    {
      "cell_type": "code",
      "execution_count": null,
      "metadata": {},
      "outputs": [],
      "source": [
        "B <- cbind(c(1, 1, 0), c(0, 1, 1))\n",
        "tmp <- qrd(B); Q <- tmp$Q; R <- tmp$R          # QR分解\n",
        "print(c(all.equal(t(Q) %*% Q, diag(ncol(Q))),  # ①\n",
        "        all(abs(R[lower.tri(R)]) < 10^-10),    # ② 下三角成分はほぼ0．\n",
        "        all.equal(Q %*% R, B)))                # ③"
      ]
    },
    {
      "cell_type": "code",
      "execution_count": null,
      "metadata": {},
      "outputs": [],
      "source": [
        "A <- rbind(c(1, 0), c(1, 1), c(0, 1));\n",
        "MASS::Null(A) # 正規直交基底．MASS::Null(t(A))ではない．"
      ]
    },
    {
      "cell_type": "code",
      "execution_count": null,
      "metadata": {},
      "outputs": [],
      "source": [
        "A <- rbind(c(1, 0), c(1, 1), c(0, 1));\n",
        "basis1 <- qr.Q(qr(A))   # 列空間\n",
        "basis2 <- MASS::Null(A) # 直交補空間\n",
        "Q <- cbind(basis1, basis2); print(Q)\n",
        "all.equal(t(Q) %*% Q, diag(3))"
      ]
    },
    {
      "cell_type": "markdown",
      "source": "# 19 固有値と固有ベクトル",
      "metadata": {}
    },
    {
      "cell_type": "code",
      "execution_count": null,
      "metadata": {},
      "outputs": [],
      "source": [
        "A <- rbind(c(5, 6, 3), c(0, 9, 2), c(0, 6, 8))\n",
        "(eigs <- eigen(A)) # 固有値（絶対値の降順）と固有ベクトル（正規）\n",
        "vals <- eigs$values; vecs <- eigs$vectors"
      ]
    },
    {
      "cell_type": "code",
      "execution_count": null,
      "metadata": {},
      "outputs": [],
      "source": [
        "n <- length(vals); all.equal(A %*% vecs, vecs %*% diag(vals, n))"
      ]
    },
    {
      "cell_type": "code",
      "execution_count": null,
      "metadata": {},
      "outputs": [],
      "source": [
        "S <- rbind(c(2, 2, -2), c(2, 5, -4), c(-2, -4, 5))\n",
        "tmp <- svd(S); Q <- tmp$u; d <- tmp$d; L <- diag(d, length(d)); V <- tmp$v\n",
        "print(Q); print(L);\n",
        "c(all.equal(S, Q %*% L %*% t(Q)), all.equal(S, V %*% L %*% t(V)))"
      ]
    },
    {
      "cell_type": "code",
      "execution_count": null,
      "metadata": {},
      "outputs": [],
      "source": [
        "S <- rbind(c(2, 2, -2), c(2, 5, -4), c(-2, -4, 5))\n",
        "tmp <- eigen(S); vals <- tmp$values; Q <- tmp$vectors # ①, ②, ③\n",
        "L <- diag(vals, length(vals))                         # ④\n",
        "print(Q); print(L); c(all.equal(S, Q %*% L %*% t(Q)))"
      ]
    },
    {
      "cell_type": "code",
      "execution_count": null,
      "metadata": {},
      "outputs": [],
      "source": [
        "matrixcalc::is.positive.semi.definite(rbind(c(4, 2), c(2, 1)))"
      ]
    },
    {
      "cell_type": "code",
      "execution_count": null,
      "metadata": {},
      "outputs": [],
      "source": [
        "A <- rbind(c(4, 2), c(2, 1))\n",
        "all(eigen(A)$values >= 0)"
      ]
    },
    {
      "cell_type": "code",
      "execution_count": null,
      "metadata": {},
      "outputs": [],
      "source": [
        "x1 <- c(1, 3, 6, 10); y <- c(7, 1, 6, 14); X <- cbind(x1, y)\n",
        "n <- nrow(X); M <- matrix(1, n, n) / n\n",
        "A <- X - M %*% X\n",
        "S <- t(A) %*% A; print(S)\n",
        "eigen(S)$vectors[, 1] # 最大固有値に対応する固有ベクトル"
      ]
    },
    {
      "cell_type": "code",
      "execution_count": null,
      "metadata": {},
      "outputs": [],
      "source": [
        "tmp <- svd(A)        # 特異値分解\n",
        "print(tmp$v[, 1])    # Vの第1列（求めるもの）\n",
        "s2 <- tmp$d**2       # 特異値の2乗\n",
        "cumsum(s2) / sum(s2) # 累積寄与率（後述）"
      ]
    },
    {
      "cell_type": "code",
      "execution_count": null,
      "metadata": {},
      "outputs": [],
      "source": [
        "X <- cbind(c(1, 3, 6, 10), c(7, 1, 6, 14))\n",
        "pca <- prcomp(X)\n",
        "P <- pca$x; print(P)        # 主成分スコア\n",
        "V <- pca$rotation; print(V) # 主成分\n",
        "print(V[, 1])               # 第1主成分（求めるもの）\n",
        "s2 <- pca$sdev^2            # 特異値の2乗\n",
        "print(cumsum(s2) / sum(s2)) # 累積寄与率（後述）"
      ]
    },
    {
      "cell_type": "markdown",
      "source": "# 20 特異値分解と擬似逆行列",
      "metadata": {}
    },
    {
      "cell_type": "code",
      "execution_count": null,
      "metadata": {},
      "outputs": [],
      "source": [
        "A <- rbind(c(1, 0), c(1, 1), c(0, 1))\n",
        "tmp <- svd(A); Ur <- tmp$u; s <- tmp$d; Vr <- tmp$v; tVr <- t(tmp$v)\n",
        "r <- length(s); Sr <- diag(s, r) # diag(s)ではない．\n",
        "print(Ur); print(Sr); print(tVr); all.equal(A, Ur %*% Sr %*% tVr)"
      ]
    },
    {
      "cell_type": "code",
      "execution_count": null,
      "metadata": {},
      "outputs": [],
      "source": [
        "# Rで必要なパッケージのインストール\n",
        "system(paste0(\n",
        "  \"command -v conda && conda install -c conda-forge imagemagick -y \",\n",
        "  \"|| (sudo apt-get update && sudo apt-get install -y libmagick++-dev \",\n",
        "  \"| tail -n 1)\"))\n",
        "install.packages(\"magick\",\n",
        "                 repos = \"https://cran.rstudio.com/\") # reposは必須ではない．"
      ]
    },
    {
      "cell_type": "code",
      "execution_count": null,
      "metadata": {},
      "outputs": [],
      "source": [
        "library(magick)\n",
        "url <- \"https://github.com/taroyabuki/comath/raw/main/images/boy.jpg\"\n",
        "image <- image_convert(image_read(url), colorspace = \"gray\") # 画像の読み込み\n",
        "A <- as.integer(image_data(image))[, , 1]; A <- A / max(A)   # 行列への変換\n",
        "tmp <- svd(A); U <- tmp$u; s <- tmp$d; V <- tmp$v            # 特異値分解\n",
        "k <- 52\n",
        "Ak <- U[, 1:k] %*% diag(s[1:k], k) %*% t(V[, 1:k]) # 近似\n",
        "B <- (Ak - min(Ak)) / (max(Ak) - min(Ak))          # 数値を0～1にする．\n",
        "par(mar = rep(0.5, 4), mfrow = c(1, 2)) # 余白を0.5にして，並べて表示する．\n",
        "plot(as.raster(A)); plot(as.raster(B))"
      ]
    },
    {
      "cell_type": "code",
      "execution_count": null,
      "metadata": {},
      "outputs": [],
      "source": [
        "svd2 <- function(A, tol = 10e-10) {\n",
        "  m <- nrow(A); n <- ncol(A); G <- t(A) %*% A                # ①\n",
        "  eigs <- eigen(G); vals = eigs$values; vecs <- eigs$vectors # ②\n",
        "  s <- sqrt(vals[vals > tol]); r <- length(s)                # ③\n",
        "  if (r != 0) {\n",
        "    Sr <- diag(s, r)                                         # ④\n",
        "    Vr <- qr.Q(qr(vecs[, 1:r]))                              # ⑤\n",
        "    Ur <- A %*% Vr %*% diag(1 / s, r)                        # ⑥\n",
        "    S <- 0 * A; S[1:r, 1:r] <- Sr # S != diag(s, m, n)       # ⑦\n",
        "    V <- cbind(Vr, MASS::Null(Vr))                           # ⑨\n",
        "    U <- cbind(Ur, MASS::Null(Ur))                           # ⑨\n",
        "  } else {\n",
        "    S <- 0 * A; V <- diag(n); U <- diag(m)\n",
        "    Sr <- matrix(0); Vr <- V[, 1, drop=FALSE]; Ur <- U[, 1, drop=FALSE]\n",
        "  }\n",
        "  list(Ur = Ur, Sr = Sr, Vr = Vr, U = U, S = S, V = V)\n",
        "}\n",
        "\n",
        "A <- rbind(c(1, 0), c(1, 1), c(0, 1)); svd2(A) # 動作確認"
      ]
    },
    {
      "cell_type": "code",
      "execution_count": null,
      "metadata": {},
      "outputs": [],
      "source": [
        "isOrtho <- function(A) all.equal(t(A) %*% A, diag(ncol(A)))\n",
        "isSquare <- function(A) nrow(A) == ncol(A)\n",
        "isDiagDesc <- function(A) {\n",
        "  d = diag(A); all.equal(d, sort(abs(d), decreasing = TRUE));\n",
        "}\n",
        "\n",
        "A <- rbind(c(1, 0), c(1, 1), c(0, 1))\n",
        "tmp <- svd2(A)                                      # 特異値分解\n",
        "Ur <- tmp$Ur; Sr <- tmp$Sr; Vr <- tmp$Vr; U <- tmp$U; S <- tmp$S; V <- tmp$V\n",
        "c(isOrtho(Ur), isOrtho(Vr), isOrtho(U), isOrtho(V), # ①\n",
        "  isSquare(U), isSquare(V),                         # ②\n",
        "  isDiagDesc(Sr), isDiagDesc(S),                    # ③\n",
        "  all.equal(A, Ur %*% Sr %*% t(Vr)),                # ④-1\n",
        "  all.equal(A, U %*% S %*% t(V)))                   # ④-2"
      ]
    },
    {
      "cell_type": "code",
      "execution_count": null,
      "metadata": {},
      "outputs": [],
      "source": [
        "A <- rbind(c(1, 0), c(1, 1), c(0, 1)); MASS::ginv(A)"
      ]
    },
    {
      "cell_type": "code",
      "execution_count": null,
      "metadata": {},
      "outputs": [],
      "source": [
        "A <- rbind(c(1, 0), c(1, 1), c(0, 1)); b <- c(2, 0, 2)\n",
        "MASS::ginv(A) %*% b"
      ]
    }
  ],
  "nbformat": 4,
  "nbformat_minor": 5,
  "metadata": {
    "kernelspec": {
      "name": "ir",
      "display_name": "R"
    }
  }
}
